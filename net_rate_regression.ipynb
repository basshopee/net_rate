{
  "nbformat": 4,
  "nbformat_minor": 0,
  "metadata": {
    "colab": {
      "name": "net_rate_regression.ipynb",
      "provenance": [],
      "authorship_tag": "ABX9TyMtpxysFQhzPn5Uy8cHx12E",
      "include_colab_link": true
    },
    "kernelspec": {
      "name": "python3",
      "display_name": "Python 3"
    },
    "language_info": {
      "name": "python"
    },
    "widgets": {
      "application/vnd.jupyter.widget-state+json": {
        "55e7c60eaf664a0f93f7636a0160f4fd": {
          "model_module": "@jupyter-widgets/controls",
          "model_name": "HBoxModel",
          "state": {
            "_view_name": "HBoxView",
            "_dom_classes": [],
            "_model_name": "HBoxModel",
            "_view_module": "@jupyter-widgets/controls",
            "_model_module_version": "1.5.0",
            "_view_count": null,
            "_view_module_version": "1.5.0",
            "box_style": "",
            "layout": "IPY_MODEL_297e67efa5d544349705be1a941cc17e",
            "_model_module": "@jupyter-widgets/controls",
            "children": [
              "IPY_MODEL_faf6692cab7d454e8388472ad734a471",
              "IPY_MODEL_c462f51fbab443e3b04151bd0596cf09"
            ]
          }
        },
        "297e67efa5d544349705be1a941cc17e": {
          "model_module": "@jupyter-widgets/base",
          "model_name": "LayoutModel",
          "state": {
            "_view_name": "LayoutView",
            "grid_template_rows": null,
            "right": null,
            "justify_content": null,
            "_view_module": "@jupyter-widgets/base",
            "overflow": null,
            "_model_module_version": "1.2.0",
            "_view_count": null,
            "flex_flow": null,
            "width": null,
            "min_width": null,
            "border": null,
            "align_items": null,
            "bottom": null,
            "_model_module": "@jupyter-widgets/base",
            "top": null,
            "grid_column": null,
            "overflow_y": null,
            "overflow_x": null,
            "grid_auto_flow": null,
            "grid_area": null,
            "grid_template_columns": null,
            "flex": null,
            "_model_name": "LayoutModel",
            "justify_items": null,
            "grid_row": null,
            "max_height": null,
            "align_content": null,
            "visibility": null,
            "align_self": null,
            "height": null,
            "min_height": null,
            "padding": null,
            "grid_auto_rows": null,
            "grid_gap": null,
            "max_width": null,
            "order": null,
            "_view_module_version": "1.2.0",
            "grid_template_areas": null,
            "object_position": null,
            "object_fit": null,
            "grid_auto_columns": null,
            "margin": null,
            "display": null,
            "left": null
          }
        },
        "faf6692cab7d454e8388472ad734a471": {
          "model_module": "@jupyter-widgets/controls",
          "model_name": "FloatProgressModel",
          "state": {
            "_view_name": "ProgressView",
            "style": "IPY_MODEL_a6d19000f889424687d35775309e1d15",
            "_dom_classes": [],
            "description": "100%",
            "_model_name": "FloatProgressModel",
            "bar_style": "success",
            "max": 21,
            "_view_module": "@jupyter-widgets/controls",
            "_model_module_version": "1.5.0",
            "value": 21,
            "_view_count": null,
            "_view_module_version": "1.5.0",
            "orientation": "horizontal",
            "min": 0,
            "description_tooltip": null,
            "_model_module": "@jupyter-widgets/controls",
            "layout": "IPY_MODEL_7be7de2cf6994521a2785a0fb7f4ffee"
          }
        },
        "c462f51fbab443e3b04151bd0596cf09": {
          "model_module": "@jupyter-widgets/controls",
          "model_name": "HTMLModel",
          "state": {
            "_view_name": "HTMLView",
            "style": "IPY_MODEL_f4e2709cbe964ce194cf70f841af09d0",
            "_dom_classes": [],
            "description": "",
            "_model_name": "HTMLModel",
            "placeholder": "​",
            "_view_module": "@jupyter-widgets/controls",
            "_model_module_version": "1.5.0",
            "value": " 21/21 [00:44&lt;00:00,  2.13s/it]",
            "_view_count": null,
            "_view_module_version": "1.5.0",
            "description_tooltip": null,
            "_model_module": "@jupyter-widgets/controls",
            "layout": "IPY_MODEL_9ce5f00d8ddd46ababe8f308880df168"
          }
        },
        "a6d19000f889424687d35775309e1d15": {
          "model_module": "@jupyter-widgets/controls",
          "model_name": "ProgressStyleModel",
          "state": {
            "_view_name": "StyleView",
            "_model_name": "ProgressStyleModel",
            "description_width": "initial",
            "_view_module": "@jupyter-widgets/base",
            "_model_module_version": "1.5.0",
            "_view_count": null,
            "_view_module_version": "1.2.0",
            "bar_color": null,
            "_model_module": "@jupyter-widgets/controls"
          }
        },
        "7be7de2cf6994521a2785a0fb7f4ffee": {
          "model_module": "@jupyter-widgets/base",
          "model_name": "LayoutModel",
          "state": {
            "_view_name": "LayoutView",
            "grid_template_rows": null,
            "right": null,
            "justify_content": null,
            "_view_module": "@jupyter-widgets/base",
            "overflow": null,
            "_model_module_version": "1.2.0",
            "_view_count": null,
            "flex_flow": null,
            "width": null,
            "min_width": null,
            "border": null,
            "align_items": null,
            "bottom": null,
            "_model_module": "@jupyter-widgets/base",
            "top": null,
            "grid_column": null,
            "overflow_y": null,
            "overflow_x": null,
            "grid_auto_flow": null,
            "grid_area": null,
            "grid_template_columns": null,
            "flex": null,
            "_model_name": "LayoutModel",
            "justify_items": null,
            "grid_row": null,
            "max_height": null,
            "align_content": null,
            "visibility": null,
            "align_self": null,
            "height": null,
            "min_height": null,
            "padding": null,
            "grid_auto_rows": null,
            "grid_gap": null,
            "max_width": null,
            "order": null,
            "_view_module_version": "1.2.0",
            "grid_template_areas": null,
            "object_position": null,
            "object_fit": null,
            "grid_auto_columns": null,
            "margin": null,
            "display": null,
            "left": null
          }
        },
        "f4e2709cbe964ce194cf70f841af09d0": {
          "model_module": "@jupyter-widgets/controls",
          "model_name": "DescriptionStyleModel",
          "state": {
            "_view_name": "StyleView",
            "_model_name": "DescriptionStyleModel",
            "description_width": "",
            "_view_module": "@jupyter-widgets/base",
            "_model_module_version": "1.5.0",
            "_view_count": null,
            "_view_module_version": "1.2.0",
            "_model_module": "@jupyter-widgets/controls"
          }
        },
        "9ce5f00d8ddd46ababe8f308880df168": {
          "model_module": "@jupyter-widgets/base",
          "model_name": "LayoutModel",
          "state": {
            "_view_name": "LayoutView",
            "grid_template_rows": null,
            "right": null,
            "justify_content": null,
            "_view_module": "@jupyter-widgets/base",
            "overflow": null,
            "_model_module_version": "1.2.0",
            "_view_count": null,
            "flex_flow": null,
            "width": null,
            "min_width": null,
            "border": null,
            "align_items": null,
            "bottom": null,
            "_model_module": "@jupyter-widgets/base",
            "top": null,
            "grid_column": null,
            "overflow_y": null,
            "overflow_x": null,
            "grid_auto_flow": null,
            "grid_area": null,
            "grid_template_columns": null,
            "flex": null,
            "_model_name": "LayoutModel",
            "justify_items": null,
            "grid_row": null,
            "max_height": null,
            "align_content": null,
            "visibility": null,
            "align_self": null,
            "height": null,
            "min_height": null,
            "padding": null,
            "grid_auto_rows": null,
            "grid_gap": null,
            "max_width": null,
            "order": null,
            "_view_module_version": "1.2.0",
            "grid_template_areas": null,
            "object_position": null,
            "object_fit": null,
            "grid_auto_columns": null,
            "margin": null,
            "display": null,
            "left": null
          }
        }
      }
    }
  },
  "cells": [
    {
      "cell_type": "markdown",
      "metadata": {
        "id": "view-in-github",
        "colab_type": "text"
      },
      "source": [
        "<a href=\"https://colab.research.google.com/github/kasidejcha/net_rate/blob/main/net_rate_regression.ipynb\" target=\"_parent\"><img src=\"https://colab.research.google.com/assets/colab-badge.svg\" alt=\"Open In Colab\"/></a>"
      ]
    },
    {
      "cell_type": "markdown",
      "metadata": {
        "id": "4nlx0oW99B1P"
      },
      "source": [
        "## Load Data"
      ]
    },
    {
      "cell_type": "code",
      "metadata": {
        "colab": {
          "base_uri": "https://localhost:8080/"
        },
        "id": "KkRC9snWoyDV",
        "outputId": "4f19c6ce-6412-4eca-914d-3f69437d4c7b"
      },
      "source": [
        "from google.colab import drive\n",
        "drive.mount('/content/drive')"
      ],
      "execution_count": 42,
      "outputs": [
        {
          "output_type": "stream",
          "text": [
            "Drive already mounted at /content/drive; to attempt to forcibly remount, call drive.mount(\"/content/drive\", force_remount=True).\n"
          ],
          "name": "stdout"
        }
      ]
    },
    {
      "cell_type": "code",
      "metadata": {
        "id": "ql702s7FpMfC"
      },
      "source": [
        "import pandas as pd\n",
        "import numpy as np\n",
        "from fbprophet import Prophet\n",
        "from pandas import to_datetime\n",
        "from sklearn.metrics import mean_squared_error\n",
        "from math import sqrt\n",
        "from sklearn.metrics import mean_absolute_error\n",
        "from sklearn.metrics import mean_squared_error\n",
        "import matplotlib.pyplot as plt\n",
        "from matplotlib.pyplot import figure\n",
        "from statsmodels.tsa.api import VAR\n",
        "# function for mape\n",
        "def MAPE(Y_actual,Y_Predicted):\n",
        "    mape = np.mean(np.abs((Y_actual - Y_Predicted)/Y_actual))*100\n",
        "    return mape"
      ],
      "execution_count": 43,
      "outputs": []
    },
    {
      "cell_type": "code",
      "metadata": {
        "id": "frrIYepJoms5",
        "colab": {
          "base_uri": "https://localhost:8080/",
          "height": 204
        },
        "outputId": "eb6f5a5f-7b04-4bad-f637-e2fbd72df75d"
      },
      "source": [
        "train = pd.read_csv('/content/drive/My Drive/net_rate/Data/train.csv').drop('gmv_rate',axis=1)\n",
        "val = pd.read_csv('/content/drive/My Drive/net_rate/Data/val.csv').drop('gmv_rate',axis=1)\n",
        "val.tail()"
      ],
      "execution_count": 44,
      "outputs": [
        {
          "output_type": "execute_result",
          "data": {
            "text/html": [
              "<div>\n",
              "<style scoped>\n",
              "    .dataframe tbody tr th:only-of-type {\n",
              "        vertical-align: middle;\n",
              "    }\n",
              "\n",
              "    .dataframe tbody tr th {\n",
              "        vertical-align: top;\n",
              "    }\n",
              "\n",
              "    .dataframe thead th {\n",
              "        text-align: right;\n",
              "    }\n",
              "</style>\n",
              "<table border=\"1\" class=\"dataframe\">\n",
              "  <thead>\n",
              "    <tr style=\"text-align: right;\">\n",
              "      <th></th>\n",
              "      <th>date</th>\n",
              "      <th>net_rate</th>\n",
              "    </tr>\n",
              "  </thead>\n",
              "  <tbody>\n",
              "    <tr>\n",
              "      <th>25</th>\n",
              "      <td>2021-07-03</td>\n",
              "      <td>0.857004</td>\n",
              "    </tr>\n",
              "    <tr>\n",
              "      <th>26</th>\n",
              "      <td>2021-07-04</td>\n",
              "      <td>0.849715</td>\n",
              "    </tr>\n",
              "    <tr>\n",
              "      <th>27</th>\n",
              "      <td>2021-07-05</td>\n",
              "      <td>0.850116</td>\n",
              "    </tr>\n",
              "    <tr>\n",
              "      <th>28</th>\n",
              "      <td>2021-07-06</td>\n",
              "      <td>0.851735</td>\n",
              "    </tr>\n",
              "    <tr>\n",
              "      <th>29</th>\n",
              "      <td>2021-07-07</td>\n",
              "      <td>0.666483</td>\n",
              "    </tr>\n",
              "  </tbody>\n",
              "</table>\n",
              "</div>"
            ],
            "text/plain": [
              "          date  net_rate\n",
              "25  2021-07-03  0.857004\n",
              "26  2021-07-04  0.849715\n",
              "27  2021-07-05  0.850116\n",
              "28  2021-07-06  0.851735\n",
              "29  2021-07-07  0.666483"
            ]
          },
          "metadata": {
            "tags": []
          },
          "execution_count": 44
        }
      ]
    },
    {
      "cell_type": "code",
      "metadata": {
        "id": "GNtZskGmHv5_"
      },
      "source": [
        "# date cut\n",
        "train = train[train['date']>='2020-07-01'].reset_index(drop=True)"
      ],
      "execution_count": 45,
      "outputs": []
    },
    {
      "cell_type": "code",
      "metadata": {
        "colab": {
          "base_uri": "https://localhost:8080/"
        },
        "id": "0Wc28Fi8guRG",
        "outputId": "fc33201d-19b9-46e2-87a7-d9a3c1fed2ae"
      },
      "source": [
        "from statsmodels.tsa.stattools import adfuller\n",
        "test_result=adfuller(train['net_rate'])\n",
        "\n",
        "def adfuller_test(sales):\n",
        "    result=adfuller(sales)\n",
        "    labels = ['ADF Test Statistic','p-value','#Lags Used','Number of Observations Used']\n",
        "    for value,label in zip(result,labels):\n",
        "        print(label+' : '+str(value) )\n",
        "    if result[1] <= 0.05:\n",
        "        print(\"strong evidence against the null hypothesis(Ho), reject the null hypothesis. Data has no unit root and is stationary\")\n",
        "    else:\n",
        "        print(\"weak evidence against null hypothesis, time series has a unit root, indicating it is non-stationary \")\n",
        "\n",
        "adfuller_test(train['net_rate'])"
      ],
      "execution_count": 46,
      "outputs": [
        {
          "output_type": "stream",
          "text": [
            "ADF Test Statistic : -11.282649980312575\n",
            "p-value : 1.4434220786235808e-20\n",
            "#Lags Used : 1\n",
            "Number of Observations Used : 340\n",
            "strong evidence against the null hypothesis(Ho), reject the null hypothesis. Data has no unit root and is stationary\n"
          ],
          "name": "stdout"
        }
      ]
    },
    {
      "cell_type": "markdown",
      "metadata": {
        "id": "iHfU511HhHTD"
      },
      "source": [
        "## Prophet single variable Forecasting"
      ]
    },
    {
      "cell_type": "code",
      "metadata": {
        "id": "wcfCrVDSqL2Z"
      },
      "source": [
        "# formatting for Prophet\n",
        "train_prophet = train.copy().rename(columns={'date':'ds', 'net_rate': 'y'})\n",
        "train_prophet['ds'] = to_datetime(train_prophet['ds'])"
      ],
      "execution_count": null,
      "outputs": []
    },
    {
      "cell_type": "code",
      "metadata": {
        "colab": {
          "base_uri": "https://localhost:8080/"
        },
        "id": "kfDPGls4qZnZ",
        "outputId": "255a561f-c130-4874-9937-2855fa895c6f"
      },
      "source": [
        "model = Prophet()\n",
        "model.fit(train_prophet)"
      ],
      "execution_count": null,
      "outputs": [
        {
          "output_type": "stream",
          "text": [
            "INFO:fbprophet:Disabling yearly seasonality. Run prophet with yearly_seasonality=True to override this.\n",
            "INFO:fbprophet:Disabling daily seasonality. Run prophet with daily_seasonality=True to override this.\n"
          ],
          "name": "stderr"
        },
        {
          "output_type": "execute_result",
          "data": {
            "text/plain": [
              "<fbprophet.forecaster.Prophet at 0x7f171960a510>"
            ]
          },
          "metadata": {
            "tags": []
          },
          "execution_count": 31
        }
      ]
    },
    {
      "cell_type": "code",
      "metadata": {
        "colab": {
          "base_uri": "https://localhost:8080/",
          "height": 204
        },
        "id": "wmEslhHnqdR_",
        "outputId": "75bbafbc-eb9f-4b82-d119-fc288f16f6c2"
      },
      "source": [
        "future = model.make_future_dataframe(periods=len(val))\n",
        "future.tail()"
      ],
      "execution_count": null,
      "outputs": [
        {
          "output_type": "execute_result",
          "data": {
            "text/html": [
              "<div>\n",
              "<style scoped>\n",
              "    .dataframe tbody tr th:only-of-type {\n",
              "        vertical-align: middle;\n",
              "    }\n",
              "\n",
              "    .dataframe tbody tr th {\n",
              "        vertical-align: top;\n",
              "    }\n",
              "\n",
              "    .dataframe thead th {\n",
              "        text-align: right;\n",
              "    }\n",
              "</style>\n",
              "<table border=\"1\" class=\"dataframe\">\n",
              "  <thead>\n",
              "    <tr style=\"text-align: right;\">\n",
              "      <th></th>\n",
              "      <th>ds</th>\n",
              "    </tr>\n",
              "  </thead>\n",
              "  <tbody>\n",
              "    <tr>\n",
              "      <th>367</th>\n",
              "      <td>2021-07-03</td>\n",
              "    </tr>\n",
              "    <tr>\n",
              "      <th>368</th>\n",
              "      <td>2021-07-04</td>\n",
              "    </tr>\n",
              "    <tr>\n",
              "      <th>369</th>\n",
              "      <td>2021-07-05</td>\n",
              "    </tr>\n",
              "    <tr>\n",
              "      <th>370</th>\n",
              "      <td>2021-07-06</td>\n",
              "    </tr>\n",
              "    <tr>\n",
              "      <th>371</th>\n",
              "      <td>2021-07-07</td>\n",
              "    </tr>\n",
              "  </tbody>\n",
              "</table>\n",
              "</div>"
            ],
            "text/plain": [
              "            ds\n",
              "367 2021-07-03\n",
              "368 2021-07-04\n",
              "369 2021-07-05\n",
              "370 2021-07-06\n",
              "371 2021-07-07"
            ]
          },
          "metadata": {
            "tags": []
          },
          "execution_count": 32
        }
      ]
    },
    {
      "cell_type": "code",
      "metadata": {
        "colab": {
          "base_uri": "https://localhost:8080/",
          "height": 204
        },
        "id": "fPr8tXlTrd7h",
        "outputId": "1d4cb78c-27ad-42f3-bec8-88d6497c25cf"
      },
      "source": [
        "forecast1 = model.predict(future)\n",
        "forecast1[['ds', 'yhat', 'yhat_lower', 'yhat_upper']].tail()"
      ],
      "execution_count": null,
      "outputs": [
        {
          "output_type": "execute_result",
          "data": {
            "text/html": [
              "<div>\n",
              "<style scoped>\n",
              "    .dataframe tbody tr th:only-of-type {\n",
              "        vertical-align: middle;\n",
              "    }\n",
              "\n",
              "    .dataframe tbody tr th {\n",
              "        vertical-align: top;\n",
              "    }\n",
              "\n",
              "    .dataframe thead th {\n",
              "        text-align: right;\n",
              "    }\n",
              "</style>\n",
              "<table border=\"1\" class=\"dataframe\">\n",
              "  <thead>\n",
              "    <tr style=\"text-align: right;\">\n",
              "      <th></th>\n",
              "      <th>ds</th>\n",
              "      <th>yhat</th>\n",
              "      <th>yhat_lower</th>\n",
              "      <th>yhat_upper</th>\n",
              "    </tr>\n",
              "  </thead>\n",
              "  <tbody>\n",
              "    <tr>\n",
              "      <th>367</th>\n",
              "      <td>2021-07-03</td>\n",
              "      <td>0.852815</td>\n",
              "      <td>0.802813</td>\n",
              "      <td>0.906429</td>\n",
              "    </tr>\n",
              "    <tr>\n",
              "      <th>368</th>\n",
              "      <td>2021-07-04</td>\n",
              "      <td>0.836731</td>\n",
              "      <td>0.782658</td>\n",
              "      <td>0.887269</td>\n",
              "    </tr>\n",
              "    <tr>\n",
              "      <th>369</th>\n",
              "      <td>2021-07-05</td>\n",
              "      <td>0.834270</td>\n",
              "      <td>0.782043</td>\n",
              "      <td>0.886408</td>\n",
              "    </tr>\n",
              "    <tr>\n",
              "      <th>370</th>\n",
              "      <td>2021-07-06</td>\n",
              "      <td>0.845007</td>\n",
              "      <td>0.794564</td>\n",
              "      <td>0.897081</td>\n",
              "    </tr>\n",
              "    <tr>\n",
              "      <th>371</th>\n",
              "      <td>2021-07-07</td>\n",
              "      <td>0.854581</td>\n",
              "      <td>0.801259</td>\n",
              "      <td>0.908607</td>\n",
              "    </tr>\n",
              "  </tbody>\n",
              "</table>\n",
              "</div>"
            ],
            "text/plain": [
              "            ds      yhat  yhat_lower  yhat_upper\n",
              "367 2021-07-03  0.852815    0.802813    0.906429\n",
              "368 2021-07-04  0.836731    0.782658    0.887269\n",
              "369 2021-07-05  0.834270    0.782043    0.886408\n",
              "370 2021-07-06  0.845007    0.794564    0.897081\n",
              "371 2021-07-07  0.854581    0.801259    0.908607"
            ]
          },
          "metadata": {
            "tags": []
          },
          "execution_count": 33
        }
      ]
    },
    {
      "cell_type": "code",
      "metadata": {
        "colab": {
          "base_uri": "https://localhost:8080/",
          "height": 617
        },
        "id": "X5Pa_AhMrkzj",
        "outputId": "02687675-5dfe-45d8-986f-0cf0455ad977"
      },
      "source": [
        "from fbprophet.plot import plot_plotly, plot_components_plotly\n",
        "plot_plotly(model, forecast1)"
      ],
      "execution_count": null,
      "outputs": [
        {
          "output_type": "display_data",
          "data": {
            "text/html": [
              "<html>\n",
              "<head><meta charset=\"utf-8\" /></head>\n",
              "<body>\n",
              "    <div>\n",
              "            <script src=\"https://cdnjs.cloudflare.com/ajax/libs/mathjax/2.7.5/MathJax.js?config=TeX-AMS-MML_SVG\"></script><script type=\"text/javascript\">if (window.MathJax) {MathJax.Hub.Config({SVG: {font: \"STIX-Web\"}});}</script>\n",
              "                <script type=\"text/javascript\">window.PlotlyConfig = {MathJaxConfig: 'local'};</script>\n",
              "        <script src=\"https://cdn.plot.ly/plotly-latest.min.js\"></script>    \n",
              "            <div id=\"da5c51d1-5310-448c-a872-af9133c99297\" class=\"plotly-graph-div\" style=\"height:600px; width:900px;\"></div>\n",
              "            <script type=\"text/javascript\">\n",
              "                \n",
              "                    window.PLOTLYENV=window.PLOTLYENV || {};\n",
              "                    \n",
              "                if (document.getElementById(\"da5c51d1-5310-448c-a872-af9133c99297\")) {\n",
              "                    Plotly.newPlot(\n",
              "                        'da5c51d1-5310-448c-a872-af9133c99297',\n",
              "                        [{\"marker\": {\"color\": \"black\", \"size\": 4}, \"mode\": \"markers\", \"name\": \"Actual\", \"type\": \"scatter\", \"x\": [\"2020-07-01T00:00:00\", \"2020-07-02T00:00:00\", \"2020-07-03T00:00:00\", \"2020-07-04T00:00:00\", \"2020-07-05T00:00:00\", \"2020-07-06T00:00:00\", \"2020-07-07T00:00:00\", \"2020-07-08T00:00:00\", \"2020-07-09T00:00:00\", \"2020-07-10T00:00:00\", \"2020-07-11T00:00:00\", \"2020-07-12T00:00:00\", \"2020-07-13T00:00:00\", \"2020-07-14T00:00:00\", \"2020-07-15T00:00:00\", \"2020-07-16T00:00:00\", \"2020-07-17T00:00:00\", \"2020-07-18T00:00:00\", \"2020-07-19T00:00:00\", \"2020-07-20T00:00:00\", \"2020-07-21T00:00:00\", \"2020-07-22T00:00:00\", \"2020-07-23T00:00:00\", \"2020-07-24T00:00:00\", \"2020-07-25T00:00:00\", \"2020-07-26T00:00:00\", \"2020-07-27T00:00:00\", \"2020-07-28T00:00:00\", \"2020-07-29T00:00:00\", \"2020-07-30T00:00:00\", \"2020-07-31T00:00:00\", \"2020-08-01T00:00:00\", \"2020-08-02T00:00:00\", \"2020-08-03T00:00:00\", \"2020-08-04T00:00:00\", \"2020-08-05T00:00:00\", \"2020-08-06T00:00:00\", \"2020-08-07T00:00:00\", \"2020-08-08T00:00:00\", \"2020-08-09T00:00:00\", \"2020-08-10T00:00:00\", \"2020-08-11T00:00:00\", \"2020-08-12T00:00:00\", \"2020-08-13T00:00:00\", \"2020-08-14T00:00:00\", \"2020-08-15T00:00:00\", \"2020-08-16T00:00:00\", \"2020-08-17T00:00:00\", \"2020-08-18T00:00:00\", \"2020-08-19T00:00:00\", \"2020-08-20T00:00:00\", \"2020-08-21T00:00:00\", \"2020-08-22T00:00:00\", \"2020-08-23T00:00:00\", \"2020-08-24T00:00:00\", \"2020-08-25T00:00:00\", \"2020-08-26T00:00:00\", \"2020-08-27T00:00:00\", \"2020-08-28T00:00:00\", \"2020-08-29T00:00:00\", \"2020-08-30T00:00:00\", \"2020-08-31T00:00:00\", \"2020-09-01T00:00:00\", \"2020-09-02T00:00:00\", \"2020-09-03T00:00:00\", \"2020-09-04T00:00:00\", \"2020-09-05T00:00:00\", \"2020-09-06T00:00:00\", \"2020-09-07T00:00:00\", \"2020-09-08T00:00:00\", \"2020-09-09T00:00:00\", \"2020-09-10T00:00:00\", \"2020-09-11T00:00:00\", \"2020-09-12T00:00:00\", \"2020-09-13T00:00:00\", \"2020-09-14T00:00:00\", \"2020-09-15T00:00:00\", \"2020-09-16T00:00:00\", \"2020-09-17T00:00:00\", \"2020-09-18T00:00:00\", \"2020-09-19T00:00:00\", \"2020-09-20T00:00:00\", \"2020-09-21T00:00:00\", \"2020-09-22T00:00:00\", \"2020-09-23T00:00:00\", \"2020-09-24T00:00:00\", \"2020-09-25T00:00:00\", \"2020-09-26T00:00:00\", \"2020-09-27T00:00:00\", \"2020-09-28T00:00:00\", \"2020-09-29T00:00:00\", \"2020-09-30T00:00:00\", \"2020-10-01T00:00:00\", \"2020-10-02T00:00:00\", \"2020-10-03T00:00:00\", \"2020-10-04T00:00:00\", \"2020-10-05T00:00:00\", \"2020-10-06T00:00:00\", \"2020-10-07T00:00:00\", \"2020-10-08T00:00:00\", \"2020-10-09T00:00:00\", \"2020-10-10T00:00:00\", \"2020-10-11T00:00:00\", \"2020-10-12T00:00:00\", \"2020-10-13T00:00:00\", \"2020-10-14T00:00:00\", \"2020-10-15T00:00:00\", \"2020-10-16T00:00:00\", \"2020-10-17T00:00:00\", \"2020-10-18T00:00:00\", \"2020-10-19T00:00:00\", \"2020-10-20T00:00:00\", \"2020-10-21T00:00:00\", \"2020-10-22T00:00:00\", \"2020-10-23T00:00:00\", \"2020-10-24T00:00:00\", \"2020-10-25T00:00:00\", \"2020-10-26T00:00:00\", \"2020-10-27T00:00:00\", \"2020-10-28T00:00:00\", \"2020-10-29T00:00:00\", \"2020-10-30T00:00:00\", \"2020-10-31T00:00:00\", \"2020-11-01T00:00:00\", \"2020-11-02T00:00:00\", \"2020-11-03T00:00:00\", \"2020-11-04T00:00:00\", \"2020-11-05T00:00:00\", \"2020-11-06T00:00:00\", \"2020-11-07T00:00:00\", \"2020-11-08T00:00:00\", \"2020-11-09T00:00:00\", \"2020-11-10T00:00:00\", \"2020-11-11T00:00:00\", \"2020-11-12T00:00:00\", \"2020-11-13T00:00:00\", \"2020-11-14T00:00:00\", \"2020-11-15T00:00:00\", \"2020-11-16T00:00:00\", \"2020-11-17T00:00:00\", \"2020-11-18T00:00:00\", \"2020-11-19T00:00:00\", \"2020-11-20T00:00:00\", \"2020-11-21T00:00:00\", \"2020-11-22T00:00:00\", \"2020-11-23T00:00:00\", \"2020-11-24T00:00:00\", \"2020-11-25T00:00:00\", \"2020-11-26T00:00:00\", \"2020-11-27T00:00:00\", \"2020-11-28T00:00:00\", \"2020-11-29T00:00:00\", \"2020-11-30T00:00:00\", \"2020-12-01T00:00:00\", \"2020-12-02T00:00:00\", \"2020-12-03T00:00:00\", \"2020-12-04T00:00:00\", \"2020-12-05T00:00:00\", \"2020-12-06T00:00:00\", \"2020-12-07T00:00:00\", \"2020-12-08T00:00:00\", \"2020-12-09T00:00:00\", \"2020-12-10T00:00:00\", \"2020-12-11T00:00:00\", \"2020-12-12T00:00:00\", \"2020-12-13T00:00:00\", \"2020-12-14T00:00:00\", \"2020-12-15T00:00:00\", \"2020-12-16T00:00:00\", \"2020-12-17T00:00:00\", \"2020-12-18T00:00:00\", \"2020-12-19T00:00:00\", \"2020-12-20T00:00:00\", \"2020-12-21T00:00:00\", \"2020-12-22T00:00:00\", \"2020-12-23T00:00:00\", \"2020-12-24T00:00:00\", \"2020-12-25T00:00:00\", \"2020-12-26T00:00:00\", \"2020-12-27T00:00:00\", \"2020-12-28T00:00:00\", \"2020-12-29T00:00:00\", \"2020-12-30T00:00:00\", \"2020-12-31T00:00:00\", \"2021-01-01T00:00:00\", \"2021-01-02T00:00:00\", \"2021-01-03T00:00:00\", \"2021-01-04T00:00:00\", \"2021-01-05T00:00:00\", \"2021-01-06T00:00:00\", \"2021-01-07T00:00:00\", \"2021-01-08T00:00:00\", \"2021-01-09T00:00:00\", \"2021-01-10T00:00:00\", \"2021-01-11T00:00:00\", \"2021-01-12T00:00:00\", \"2021-01-13T00:00:00\", \"2021-01-14T00:00:00\", \"2021-01-15T00:00:00\", \"2021-01-16T00:00:00\", \"2021-01-17T00:00:00\", \"2021-01-18T00:00:00\", \"2021-01-19T00:00:00\", \"2021-01-20T00:00:00\", \"2021-01-21T00:00:00\", \"2021-01-22T00:00:00\", \"2021-01-23T00:00:00\", \"2021-01-24T00:00:00\", \"2021-01-25T00:00:00\", \"2021-01-26T00:00:00\", \"2021-01-27T00:00:00\", \"2021-01-28T00:00:00\", \"2021-01-29T00:00:00\", \"2021-01-30T00:00:00\", \"2021-01-31T00:00:00\", \"2021-02-01T00:00:00\", \"2021-02-02T00:00:00\", \"2021-02-03T00:00:00\", \"2021-02-04T00:00:00\", \"2021-02-05T00:00:00\", \"2021-02-06T00:00:00\", \"2021-02-07T00:00:00\", \"2021-02-08T00:00:00\", \"2021-02-09T00:00:00\", \"2021-02-10T00:00:00\", \"2021-02-11T00:00:00\", \"2021-02-12T00:00:00\", \"2021-02-13T00:00:00\", \"2021-02-14T00:00:00\", \"2021-02-15T00:00:00\", \"2021-02-16T00:00:00\", \"2021-02-17T00:00:00\", \"2021-02-18T00:00:00\", \"2021-02-19T00:00:00\", \"2021-02-20T00:00:00\", \"2021-02-21T00:00:00\", \"2021-02-22T00:00:00\", \"2021-02-23T00:00:00\", \"2021-02-24T00:00:00\", \"2021-02-25T00:00:00\", \"2021-02-26T00:00:00\", \"2021-02-27T00:00:00\", \"2021-02-28T00:00:00\", \"2021-03-01T00:00:00\", \"2021-03-02T00:00:00\", \"2021-03-03T00:00:00\", \"2021-03-04T00:00:00\", \"2021-03-05T00:00:00\", \"2021-03-06T00:00:00\", \"2021-03-07T00:00:00\", \"2021-03-08T00:00:00\", \"2021-03-09T00:00:00\", \"2021-03-10T00:00:00\", \"2021-03-11T00:00:00\", \"2021-03-12T00:00:00\", \"2021-03-13T00:00:00\", \"2021-03-14T00:00:00\", \"2021-03-15T00:00:00\", \"2021-03-16T00:00:00\", \"2021-03-17T00:00:00\", \"2021-03-18T00:00:00\", \"2021-03-19T00:00:00\", \"2021-03-20T00:00:00\", \"2021-03-21T00:00:00\", \"2021-03-22T00:00:00\", \"2021-03-23T00:00:00\", \"2021-03-24T00:00:00\", \"2021-03-25T00:00:00\", \"2021-03-26T00:00:00\", \"2021-03-27T00:00:00\", \"2021-03-28T00:00:00\", \"2021-03-29T00:00:00\", \"2021-03-30T00:00:00\", \"2021-03-31T00:00:00\", \"2021-04-01T00:00:00\", \"2021-04-02T00:00:00\", \"2021-04-03T00:00:00\", \"2021-04-04T00:00:00\", \"2021-04-05T00:00:00\", \"2021-04-06T00:00:00\", \"2021-04-07T00:00:00\", \"2021-04-08T00:00:00\", \"2021-04-09T00:00:00\", \"2021-04-10T00:00:00\", \"2021-04-11T00:00:00\", \"2021-04-12T00:00:00\", \"2021-04-13T00:00:00\", \"2021-04-14T00:00:00\", \"2021-04-15T00:00:00\", \"2021-04-16T00:00:00\", \"2021-04-17T00:00:00\", \"2021-04-18T00:00:00\", \"2021-04-19T00:00:00\", \"2021-04-20T00:00:00\", \"2021-04-21T00:00:00\", \"2021-04-22T00:00:00\", \"2021-04-23T00:00:00\", \"2021-04-24T00:00:00\", \"2021-04-25T00:00:00\", \"2021-04-26T00:00:00\", \"2021-04-27T00:00:00\", \"2021-04-28T00:00:00\", \"2021-04-29T00:00:00\", \"2021-04-30T00:00:00\", \"2021-05-01T00:00:00\", \"2021-05-02T00:00:00\", \"2021-05-03T00:00:00\", \"2021-05-04T00:00:00\", \"2021-05-05T00:00:00\", \"2021-05-06T00:00:00\", \"2021-05-07T00:00:00\", \"2021-05-08T00:00:00\", \"2021-05-09T00:00:00\", \"2021-05-10T00:00:00\", \"2021-05-11T00:00:00\", \"2021-05-12T00:00:00\", \"2021-05-13T00:00:00\", \"2021-05-14T00:00:00\", \"2021-05-15T00:00:00\", \"2021-05-16T00:00:00\", \"2021-05-17T00:00:00\", \"2021-05-18T00:00:00\", \"2021-05-19T00:00:00\", \"2021-05-20T00:00:00\", \"2021-05-21T00:00:00\", \"2021-05-22T00:00:00\", \"2021-05-23T00:00:00\", \"2021-05-24T00:00:00\", \"2021-05-25T00:00:00\", \"2021-05-26T00:00:00\", \"2021-05-27T00:00:00\", \"2021-05-28T00:00:00\", \"2021-05-29T00:00:00\", \"2021-05-30T00:00:00\", \"2021-05-31T00:00:00\", \"2021-06-01T00:00:00\", \"2021-06-02T00:00:00\", \"2021-06-03T00:00:00\", \"2021-06-04T00:00:00\", \"2021-06-05T00:00:00\", \"2021-06-06T00:00:00\", \"2021-06-07T00:00:00\"], \"y\": [0.839773743962221, 0.8483182392918153, 0.8551875962255446, 0.8473922644756925, 0.8269167563789265, 0.8034670077746031, 0.7525993086752162, 0.8142518337442584, 0.8764169767633659, 0.8771330227806224, 0.8749722162692238, 0.8543085330675334, 0.8892307314702024, 0.9323949235873188, 0.9067216592471556, 0.8814585603954923, 0.8838713057548346, 0.8520879920022061, 0.8310699934988134, 0.8195587032584307, 0.8330260656967333, 0.8608729035627715, 0.8595957876110701, 0.8487753019220956, 0.8418914825260158, 0.8284748490294824, 0.8093461590407731, 0.8270365238004781, 0.8781013059647707, 0.9186304842183912, 0.8969057536630722, 0.8502914827153921, 0.8129143014673634, 0.8423590997446988, 0.838212034619817, 0.8577959099002541, 0.8667783299125702, 0.8665337309664096, 0.8004790036920377, 0.8363843169401606, 0.8589085248462733, 0.8799801170908509, 0.8889531033206919, 0.8690027199322433, 0.8625406932209881, 0.8689548498568364, 0.8376453881252749, 0.8804168208681549, 0.8669523709408669, 0.8750790689121432, 0.8716872634478354, 0.8744376991715567, 0.8012165763958623, 0.8748654314317832, 0.8357653583603355, 0.8539021333484025, 0.8887474999438191, 0.8959818576858081, 0.9152721443335136, 0.8484994482819946, 0.8183418383357552, 0.8248047141150125, 0.8424144513603811, 0.8967529670394961, 0.8705519947792741, 0.8715340318464518, 0.8543124185745365, 0.8298153271042159, 0.8349709944706694, 0.8380645529830485, 0.7059592403570464, 0.8409350143535035, 0.904173713948078, 0.9004441011612442, 0.9197555367162756, 0.9145166974392268, 0.9018480207537384, 0.9322055589338611, 0.8961601340219731, 0.8890311413080603, 0.8723851300293051, 0.8624321196984626, 0.7990720089456635, 0.8393631843096965, 0.8670547502525353, 0.8683965600115116, 0.8668798570441194, 0.8434181195362334, 0.8172477696227308, 0.8412807486849747, 0.8769706976782806, 0.8877238683366464, 0.9014642880601772, 0.9196482032213992, 0.8629721391343347, 0.8326623986639295, 0.8397776106136203, 0.8398505304116988, 0.8789527545937357, 0.8930676460809878, 0.8875424850217393, 0.7632056984100742, 0.8493807263172128, 0.8636790568355551, 0.8524185403586505, 0.9437676441758104, 0.8842499345891054, 0.8875665141699721, 0.8645978107218797, 0.8418731736135288, 0.8402507799463637, 0.8434967605229746, 0.8694843339104454, 0.8674366806352117, 0.8956064527681463, 0.9426016803418492, 0.8378025702832405, 0.824928676386011, 0.8340803056177816, 0.8534261626600056, 0.8624400460896222, 0.8546490138054741, 0.8439774038753569, 0.8218505047699238, 0.8302840231016801, 0.8327142893837816, 0.8565917715753553, 0.8692099805166237, 0.8662054177893652, 0.8552829372950177, 0.8430682116352068, 0.8626425776165741, 0.9391234764994181, 0.7292193343589156, 0.8148607701130207, 0.89702255848765, 0.8640717570634359, 0.8921964911751704, 0.9021339103199232, 0.8830713386513186, 0.8827704591366023, 0.8692731381746548, 0.8853958618925097, 0.942762801634874, 0.9133414935127572, 0.8524900711078599, 0.8639932087154818, 0.8597293843605703, 0.8570029205289604, 0.85049692796926, 0.8442705019312915, 0.8380558539019383, 0.8273024678708393, 0.8062794541745797, 0.8318159113307143, 0.8147714508801926, 0.8748180418796483, 0.8477014858799587, 0.8267081169875918, 0.8145762461531666, 0.8334173120627829, 0.8681103855112333, 0.9243500840039228, 0.9312414133891972, 0.5948408726475661, 0.8246197246565873, 0.8101125271059533, 0.8558719260411776, 0.900936500396012, 0.901883162466478, 0.8941857487787584, 0.8820768131418364, 0.8525875137304718, 0.8201515827017387, 0.8488970696647209, 0.9118147211223542, 0.8996990497676004, 0.9026863521621248, 0.8391051066626668, 0.8241482445960354, 0.8202002705777616, 0.8719368918511141, 0.8726613861492367, 0.8575685470989347, 0.7913927962926371, 0.774440771599348, 0.7744432787628969, 0.7869042820607484, 0.8018470285572069, 0.8475597341553578, 0.8594823095515919, 0.8612762315145859, 0.8478180285814927, 0.8385036449043926, 0.8643278854233496, 0.90765366425104, 0.9344145041364404, 0.8638097412060994, 0.853739100146057, 0.8487409023451987, 0.8430735423308887, 0.8377753432991661, 0.8506517224244329, 0.8678443028397499, 0.8662387526822855, 0.884389959643189, 0.9243957787698288, 0.9328480785768823, 0.8418320787005281, 0.8486856949765916, 0.868804027738197, 0.8656922115036665, 0.8661538867009152, 0.8604029392486287, 0.8500756241279421, 0.8545354270410939, 0.763731491568534, 0.8238586011354142, 0.9025852849357382, 0.9111536401726364, 0.9415982433316568, 0.8776466472930793, 0.9190051838356016, 0.8630063692787276, 0.8800613237572128, 0.8772350953101328, 0.8714261710941801, 0.8578737530158621, 0.8601009835337896, 0.8185353983090681, 0.8441967907892385, 0.8554488908852377, 0.8585348063631401, 0.8673194100051485, 0.8675925730597435, 0.863091457969528, 0.8802760418623755, 0.9182322348096272, 0.9126768017430266, 0.9202441327894902, 0.8589318719129444, 0.8376225568620992, 0.8419159959105997, 0.8762818467917154, 0.8724515280588004, 0.7742231366802168, 0.8325716465455426, 0.8894154603060224, 0.9288127544234208, 0.8823476519709599, 0.8978320834110763, 0.8717342057248588, 0.8770422701522143, 0.8906582212125044, 0.8804624850620786, 0.873511465508522, 0.8651018687617532, 0.8295775884340347, 0.8517894522424103, 0.8740252977793904, 0.8724565875152298, 0.8925959512778093, 0.9417173855682166, 0.9190246811429932, 0.8486664578873535, 0.8469957978328682, 0.8657487802439308, 0.8806900593497705, 0.8494754640824712, 0.8558908527743792, 0.852657175753796, 0.8499673330433261, 0.8442628247451065, 0.860832573528842, 0.8677137508527876, 0.8691500242884685, 0.8629424486324822, 0.7105752118798594, 0.8043182198410935, 0.8634587128864271, 0.8970362533653695, 0.9018892652005941, 0.9204055691569604, 0.9448077353141328, 0.9247064266043852, 0.8519273001446639, 0.8324868961561609, 0.8537529870298879, 0.7601792836985298, 0.8126614091658521, 0.8286694218184002, 0.8378881477024807, 0.8463661081017526, 0.8491482517402081, 0.8521929731915088, 0.8569996925160674, 0.916494416510848, 0.9151384446544968, 0.7799761295105498, 0.7901127041265623, 0.8849212047699196, 0.8685774415673406, 0.8187553002161891, 0.8768467712750269, 0.8163928218203619, 0.8092956228788717, 0.8070093964383902, 0.8241089980919161, 0.7069124468433048, 0.8487412633347262, 0.9333658732337196, 0.9184036313016634, 0.8767093137787421, 0.874939571330399, 0.8796362308642037, 0.8869198552336689, 0.90092195395344, 0.8851897062988001, 0.8156936455801326, 0.8382250719202449, 0.8561185239515099, 0.8599874080160034, 0.8679716537568676, 0.8755717132302295, 0.9449037235412958, 0.8792107979301889, 0.8438722223674008, 0.8357110416852818, 0.8309983407942093, 0.8509315149040907, 0.8730008382298088, 0.8534376418817449, 0.8518472133408379, 0.8442837648791007, 0.8360310449219128, 0.8176917665950608, 0.8517844007793882, 0.8600990039095369, 0.8840375652059018, 0.9363990362722012, 0.7352102634280973, 0.7630733971413299]}, {\"hoverinfo\": \"skip\", \"line\": {\"width\": 0}, \"mode\": \"lines\", \"type\": \"scatter\", \"x\": [\"2020-07-01T00:00:00\", \"2020-07-02T00:00:00\", \"2020-07-03T00:00:00\", \"2020-07-04T00:00:00\", \"2020-07-05T00:00:00\", \"2020-07-06T00:00:00\", \"2020-07-07T00:00:00\", \"2020-07-08T00:00:00\", \"2020-07-09T00:00:00\", \"2020-07-10T00:00:00\", \"2020-07-11T00:00:00\", \"2020-07-12T00:00:00\", \"2020-07-13T00:00:00\", \"2020-07-14T00:00:00\", \"2020-07-15T00:00:00\", \"2020-07-16T00:00:00\", \"2020-07-17T00:00:00\", \"2020-07-18T00:00:00\", \"2020-07-19T00:00:00\", \"2020-07-20T00:00:00\", \"2020-07-21T00:00:00\", \"2020-07-22T00:00:00\", \"2020-07-23T00:00:00\", \"2020-07-24T00:00:00\", \"2020-07-25T00:00:00\", \"2020-07-26T00:00:00\", \"2020-07-27T00:00:00\", \"2020-07-28T00:00:00\", \"2020-07-29T00:00:00\", \"2020-07-30T00:00:00\", \"2020-07-31T00:00:00\", \"2020-08-01T00:00:00\", \"2020-08-02T00:00:00\", \"2020-08-03T00:00:00\", \"2020-08-04T00:00:00\", \"2020-08-05T00:00:00\", \"2020-08-06T00:00:00\", \"2020-08-07T00:00:00\", \"2020-08-08T00:00:00\", \"2020-08-09T00:00:00\", \"2020-08-10T00:00:00\", \"2020-08-11T00:00:00\", \"2020-08-12T00:00:00\", \"2020-08-13T00:00:00\", \"2020-08-14T00:00:00\", \"2020-08-15T00:00:00\", \"2020-08-16T00:00:00\", \"2020-08-17T00:00:00\", \"2020-08-18T00:00:00\", \"2020-08-19T00:00:00\", \"2020-08-20T00:00:00\", \"2020-08-21T00:00:00\", \"2020-08-22T00:00:00\", \"2020-08-23T00:00:00\", \"2020-08-24T00:00:00\", \"2020-08-25T00:00:00\", \"2020-08-26T00:00:00\", \"2020-08-27T00:00:00\", \"2020-08-28T00:00:00\", \"2020-08-29T00:00:00\", \"2020-08-30T00:00:00\", \"2020-08-31T00:00:00\", \"2020-09-01T00:00:00\", \"2020-09-02T00:00:00\", \"2020-09-03T00:00:00\", \"2020-09-04T00:00:00\", \"2020-09-05T00:00:00\", \"2020-09-06T00:00:00\", \"2020-09-07T00:00:00\", \"2020-09-08T00:00:00\", \"2020-09-09T00:00:00\", \"2020-09-10T00:00:00\", \"2020-09-11T00:00:00\", \"2020-09-12T00:00:00\", \"2020-09-13T00:00:00\", \"2020-09-14T00:00:00\", \"2020-09-15T00:00:00\", \"2020-09-16T00:00:00\", \"2020-09-17T00:00:00\", \"2020-09-18T00:00:00\", \"2020-09-19T00:00:00\", \"2020-09-20T00:00:00\", \"2020-09-21T00:00:00\", \"2020-09-22T00:00:00\", \"2020-09-23T00:00:00\", \"2020-09-24T00:00:00\", \"2020-09-25T00:00:00\", \"2020-09-26T00:00:00\", \"2020-09-27T00:00:00\", \"2020-09-28T00:00:00\", \"2020-09-29T00:00:00\", \"2020-09-30T00:00:00\", \"2020-10-01T00:00:00\", \"2020-10-02T00:00:00\", \"2020-10-03T00:00:00\", \"2020-10-04T00:00:00\", \"2020-10-05T00:00:00\", \"2020-10-06T00:00:00\", \"2020-10-07T00:00:00\", \"2020-10-08T00:00:00\", \"2020-10-09T00:00:00\", \"2020-10-10T00:00:00\", \"2020-10-11T00:00:00\", \"2020-10-12T00:00:00\", \"2020-10-13T00:00:00\", \"2020-10-14T00:00:00\", \"2020-10-15T00:00:00\", \"2020-10-16T00:00:00\", \"2020-10-17T00:00:00\", \"2020-10-18T00:00:00\", \"2020-10-19T00:00:00\", \"2020-10-20T00:00:00\", \"2020-10-21T00:00:00\", \"2020-10-22T00:00:00\", \"2020-10-23T00:00:00\", \"2020-10-24T00:00:00\", \"2020-10-25T00:00:00\", \"2020-10-26T00:00:00\", \"2020-10-27T00:00:00\", \"2020-10-28T00:00:00\", \"2020-10-29T00:00:00\", \"2020-10-30T00:00:00\", \"2020-10-31T00:00:00\", \"2020-11-01T00:00:00\", \"2020-11-02T00:00:00\", \"2020-11-03T00:00:00\", \"2020-11-04T00:00:00\", \"2020-11-05T00:00:00\", \"2020-11-06T00:00:00\", \"2020-11-07T00:00:00\", \"2020-11-08T00:00:00\", \"2020-11-09T00:00:00\", \"2020-11-10T00:00:00\", \"2020-11-11T00:00:00\", \"2020-11-12T00:00:00\", \"2020-11-13T00:00:00\", \"2020-11-14T00:00:00\", \"2020-11-15T00:00:00\", \"2020-11-16T00:00:00\", \"2020-11-17T00:00:00\", \"2020-11-18T00:00:00\", \"2020-11-19T00:00:00\", \"2020-11-20T00:00:00\", \"2020-11-21T00:00:00\", \"2020-11-22T00:00:00\", \"2020-11-23T00:00:00\", \"2020-11-24T00:00:00\", \"2020-11-25T00:00:00\", \"2020-11-26T00:00:00\", \"2020-11-27T00:00:00\", \"2020-11-28T00:00:00\", \"2020-11-29T00:00:00\", \"2020-11-30T00:00:00\", \"2020-12-01T00:00:00\", \"2020-12-02T00:00:00\", \"2020-12-03T00:00:00\", \"2020-12-04T00:00:00\", \"2020-12-05T00:00:00\", \"2020-12-06T00:00:00\", \"2020-12-07T00:00:00\", \"2020-12-08T00:00:00\", \"2020-12-09T00:00:00\", \"2020-12-10T00:00:00\", \"2020-12-11T00:00:00\", \"2020-12-12T00:00:00\", \"2020-12-13T00:00:00\", \"2020-12-14T00:00:00\", \"2020-12-15T00:00:00\", \"2020-12-16T00:00:00\", \"2020-12-17T00:00:00\", \"2020-12-18T00:00:00\", \"2020-12-19T00:00:00\", \"2020-12-20T00:00:00\", \"2020-12-21T00:00:00\", \"2020-12-22T00:00:00\", \"2020-12-23T00:00:00\", \"2020-12-24T00:00:00\", \"2020-12-25T00:00:00\", \"2020-12-26T00:00:00\", \"2020-12-27T00:00:00\", \"2020-12-28T00:00:00\", \"2020-12-29T00:00:00\", \"2020-12-30T00:00:00\", \"2020-12-31T00:00:00\", \"2021-01-01T00:00:00\", \"2021-01-02T00:00:00\", \"2021-01-03T00:00:00\", \"2021-01-04T00:00:00\", \"2021-01-05T00:00:00\", \"2021-01-06T00:00:00\", \"2021-01-07T00:00:00\", \"2021-01-08T00:00:00\", \"2021-01-09T00:00:00\", \"2021-01-10T00:00:00\", \"2021-01-11T00:00:00\", \"2021-01-12T00:00:00\", \"2021-01-13T00:00:00\", \"2021-01-14T00:00:00\", \"2021-01-15T00:00:00\", \"2021-01-16T00:00:00\", \"2021-01-17T00:00:00\", \"2021-01-18T00:00:00\", \"2021-01-19T00:00:00\", \"2021-01-20T00:00:00\", \"2021-01-21T00:00:00\", \"2021-01-22T00:00:00\", \"2021-01-23T00:00:00\", \"2021-01-24T00:00:00\", \"2021-01-25T00:00:00\", \"2021-01-26T00:00:00\", \"2021-01-27T00:00:00\", \"2021-01-28T00:00:00\", \"2021-01-29T00:00:00\", \"2021-01-30T00:00:00\", \"2021-01-31T00:00:00\", \"2021-02-01T00:00:00\", \"2021-02-02T00:00:00\", \"2021-02-03T00:00:00\", \"2021-02-04T00:00:00\", \"2021-02-05T00:00:00\", \"2021-02-06T00:00:00\", \"2021-02-07T00:00:00\", \"2021-02-08T00:00:00\", \"2021-02-09T00:00:00\", \"2021-02-10T00:00:00\", \"2021-02-11T00:00:00\", \"2021-02-12T00:00:00\", \"2021-02-13T00:00:00\", \"2021-02-14T00:00:00\", \"2021-02-15T00:00:00\", \"2021-02-16T00:00:00\", \"2021-02-17T00:00:00\", \"2021-02-18T00:00:00\", \"2021-02-19T00:00:00\", \"2021-02-20T00:00:00\", \"2021-02-21T00:00:00\", \"2021-02-22T00:00:00\", \"2021-02-23T00:00:00\", \"2021-02-24T00:00:00\", \"2021-02-25T00:00:00\", \"2021-02-26T00:00:00\", \"2021-02-27T00:00:00\", \"2021-02-28T00:00:00\", \"2021-03-01T00:00:00\", \"2021-03-02T00:00:00\", \"2021-03-03T00:00:00\", \"2021-03-04T00:00:00\", \"2021-03-05T00:00:00\", \"2021-03-06T00:00:00\", \"2021-03-07T00:00:00\", \"2021-03-08T00:00:00\", \"2021-03-09T00:00:00\", \"2021-03-10T00:00:00\", \"2021-03-11T00:00:00\", \"2021-03-12T00:00:00\", \"2021-03-13T00:00:00\", \"2021-03-14T00:00:00\", \"2021-03-15T00:00:00\", \"2021-03-16T00:00:00\", \"2021-03-17T00:00:00\", \"2021-03-18T00:00:00\", \"2021-03-19T00:00:00\", \"2021-03-20T00:00:00\", \"2021-03-21T00:00:00\", \"2021-03-22T00:00:00\", \"2021-03-23T00:00:00\", \"2021-03-24T00:00:00\", \"2021-03-25T00:00:00\", \"2021-03-26T00:00:00\", \"2021-03-27T00:00:00\", \"2021-03-28T00:00:00\", \"2021-03-29T00:00:00\", \"2021-03-30T00:00:00\", \"2021-03-31T00:00:00\", \"2021-04-01T00:00:00\", \"2021-04-02T00:00:00\", \"2021-04-03T00:00:00\", \"2021-04-04T00:00:00\", \"2021-04-05T00:00:00\", \"2021-04-06T00:00:00\", \"2021-04-07T00:00:00\", \"2021-04-08T00:00:00\", \"2021-04-09T00:00:00\", \"2021-04-10T00:00:00\", \"2021-04-11T00:00:00\", \"2021-04-12T00:00:00\", \"2021-04-13T00:00:00\", \"2021-04-14T00:00:00\", \"2021-04-15T00:00:00\", \"2021-04-16T00:00:00\", \"2021-04-17T00:00:00\", \"2021-04-18T00:00:00\", \"2021-04-19T00:00:00\", \"2021-04-20T00:00:00\", \"2021-04-21T00:00:00\", \"2021-04-22T00:00:00\", \"2021-04-23T00:00:00\", \"2021-04-24T00:00:00\", \"2021-04-25T00:00:00\", \"2021-04-26T00:00:00\", \"2021-04-27T00:00:00\", \"2021-04-28T00:00:00\", \"2021-04-29T00:00:00\", \"2021-04-30T00:00:00\", \"2021-05-01T00:00:00\", \"2021-05-02T00:00:00\", \"2021-05-03T00:00:00\", \"2021-05-04T00:00:00\", \"2021-05-05T00:00:00\", \"2021-05-06T00:00:00\", \"2021-05-07T00:00:00\", \"2021-05-08T00:00:00\", \"2021-05-09T00:00:00\", \"2021-05-10T00:00:00\", \"2021-05-11T00:00:00\", \"2021-05-12T00:00:00\", \"2021-05-13T00:00:00\", \"2021-05-14T00:00:00\", \"2021-05-15T00:00:00\", \"2021-05-16T00:00:00\", \"2021-05-17T00:00:00\", \"2021-05-18T00:00:00\", \"2021-05-19T00:00:00\", \"2021-05-20T00:00:00\", \"2021-05-21T00:00:00\", \"2021-05-22T00:00:00\", \"2021-05-23T00:00:00\", \"2021-05-24T00:00:00\", \"2021-05-25T00:00:00\", \"2021-05-26T00:00:00\", \"2021-05-27T00:00:00\", \"2021-05-28T00:00:00\", \"2021-05-29T00:00:00\", \"2021-05-30T00:00:00\", \"2021-05-31T00:00:00\", \"2021-06-01T00:00:00\", \"2021-06-02T00:00:00\", \"2021-06-03T00:00:00\", \"2021-06-04T00:00:00\", \"2021-06-05T00:00:00\", \"2021-06-06T00:00:00\", \"2021-06-07T00:00:00\", \"2021-06-08T00:00:00\", \"2021-06-09T00:00:00\", \"2021-06-10T00:00:00\", \"2021-06-11T00:00:00\", \"2021-06-12T00:00:00\", \"2021-06-13T00:00:00\", \"2021-06-14T00:00:00\", \"2021-06-15T00:00:00\", \"2021-06-16T00:00:00\", \"2021-06-17T00:00:00\", \"2021-06-18T00:00:00\", \"2021-06-19T00:00:00\", \"2021-06-20T00:00:00\", \"2021-06-21T00:00:00\", \"2021-06-22T00:00:00\", \"2021-06-23T00:00:00\", \"2021-06-24T00:00:00\", \"2021-06-25T00:00:00\", \"2021-06-26T00:00:00\", \"2021-06-27T00:00:00\", \"2021-06-28T00:00:00\", \"2021-06-29T00:00:00\", \"2021-06-30T00:00:00\", \"2021-07-01T00:00:00\", \"2021-07-02T00:00:00\", \"2021-07-03T00:00:00\", \"2021-07-04T00:00:00\", \"2021-07-05T00:00:00\", \"2021-07-06T00:00:00\", \"2021-07-07T00:00:00\"], \"y\": [0.8076403640898866, 0.8184453656284004, 0.8232739686372139, 0.8068258408924589, 0.7925936154096974, 0.7863236013864381, 0.7990111408635517, 0.8071837206485007, 0.8136597724396222, 0.8296991451503188, 0.8043791811489623, 0.7887576125244409, 0.7876411260946845, 0.7967029509243255, 0.8086254820712179, 0.8191745630018645, 0.8297492372157995, 0.807677886760048, 0.7888556173417259, 0.7875671628001792, 0.7964893517824361, 0.8103079890636593, 0.8195581060034685, 0.8261530653415774, 0.8060840346072499, 0.7930477865354826, 0.7859340395646655, 0.7979733673814273, 0.8113098364645273, 0.8121722351943208, 0.8284596685576984, 0.8030100947131372, 0.7898964806798384, 0.7904623044275981, 0.7992591320378778, 0.8066083100955616, 0.8156804143458036, 0.8263345061755404, 0.8096153157174575, 0.7889728800358324, 0.7894757752625535, 0.7987281402456765, 0.8064848527127296, 0.8216262521210375, 0.8281086134204022, 0.8095692123667393, 0.7884236212210831, 0.7884086021017489, 0.8016850489135502, 0.8091786996371664, 0.8189731256993491, 0.8253417026253894, 0.8115636087746385, 0.795672158516566, 0.7872827295452985, 0.8011628262065806, 0.8086249877690321, 0.8174657341391164, 0.8268023920472062, 0.8092074556484329, 0.7903439960424402, 0.7863897438596631, 0.8022525016284269, 0.8090664320005035, 0.8189030095113623, 0.8299575717562451, 0.810198167874834, 0.7919111442485884, 0.7865722133873783, 0.7986535277323282, 0.8126840476328614, 0.8183606136273056, 0.8256985578925338, 0.8062346455725222, 0.7941551716143485, 0.7900667188175363, 0.8022043661941952, 0.8076927205734225, 0.8179917918674652, 0.8282486825122979, 0.8044121457967669, 0.7941983845107029, 0.7884420189761563, 0.799108817575864, 0.8121915439475434, 0.8181025454864006, 0.8299592227342333, 0.8078071351360306, 0.7926626822550723, 0.7893139675590026, 0.7964936713128772, 0.8137577321037032, 0.8178493947266239, 0.8288563029243429, 0.8068425364556134, 0.793718644310526, 0.7899568608831459, 0.8018629057836157, 0.8126287241332092, 0.8189409382929808, 0.8286141257499391, 0.8106455072128828, 0.7939597942551294, 0.7909442048050995, 0.8039898722883962, 0.8136124378190216, 0.8181465218006675, 0.8314069025564441, 0.8097500817251455, 0.7949078579223439, 0.7917047117467944, 0.8013812752358206, 0.8099052781836504, 0.8188930703162043, 0.8292190601433599, 0.8058682849388763, 0.7914199213169016, 0.7914040005827911, 0.8014113958225277, 0.812501765121152, 0.8179933832680595, 0.8255884220794913, 0.8062046468027488, 0.7939540154876049, 0.7897593811833024, 0.8051832624118399, 0.8093461188788765, 0.8171296629447288, 0.8325555291356349, 0.8089552032852951, 0.7942848737072348, 0.791520269714913, 0.8033316073696726, 0.812854690839485, 0.8228319194819202, 0.8312084179293198, 0.8077679751713701, 0.7942419113045187, 0.7917664051869505, 0.8022286794203954, 0.8130638703692158, 0.8239639898020154, 0.8293133713265243, 0.8059957052157377, 0.7936907355749467, 0.7916574614468874, 0.8044804171329043, 0.8125237978087043, 0.8188693366222495, 0.8331657297267804, 0.8094232523838457, 0.7951021048897193, 0.7932069992982647, 0.8017975161201037, 0.8119043701371749, 0.8200099332885865, 0.830734347510687, 0.8105713587701056, 0.7940982781507656, 0.7896905662486824, 0.8007145254193563, 0.8151798111391326, 0.816848714267197, 0.8317766774900326, 0.8084693728203949, 0.7955976590091125, 0.7908964338614247, 0.8020194339698842, 0.8141106417981221, 0.8187739541166772, 0.8339627653476853, 0.8108878588966564, 0.7909046044318307, 0.7941876019450398, 0.803192127195105, 0.8167103479529202, 0.820945468789275, 0.8294847728582901, 0.8132278278090065, 0.7934690955230244, 0.7905356406419499, 0.7992981542453036, 0.8112143664687788, 0.8230010943605564, 0.8344992389059802, 0.8124061126168611, 0.7948772553784736, 0.7916036073521193, 0.805684197304706, 0.8143285737782976, 0.819580713958923, 0.8305067818043633, 0.8157565194859847, 0.7935684769970498, 0.7881964717362313, 0.8044975301392416, 0.8139027761419432, 0.8172898608957636, 0.8284133493025784, 0.8114055897240731, 0.7980506255737436, 0.7923300696064163, 0.8013742203339692, 0.8126492687803168, 0.8253447720380827, 0.8294794067292058, 0.8097712003606851, 0.7937399154818849, 0.7963096760581452, 0.8021458167484896, 0.8114197631225366, 0.8220245746969382, 0.831993736466631, 0.8102841237542184, 0.7929460812838213, 0.7929729659493128, 0.8065397031196107, 0.8085643413278967, 0.8206039814846321, 0.8303448019539003, 0.8111275325399383, 0.7960033889588977, 0.7904926434132652, 0.8037617329816503, 0.8157245049171549, 0.821389492641759, 0.831298740594885, 0.8148997425679115, 0.7965936155752819, 0.7900515894481137, 0.8038985458387317, 0.8145225192885446, 0.8194949447738646, 0.8328747478523086, 0.810487459228936, 0.7950780707348557, 0.7903922605243883, 0.7999800402623852, 0.8157081709111154, 0.821397646796561, 0.8325885702547999, 0.8076114502738113, 0.7925642742133212, 0.7917004551646581, 0.7979507362661624, 0.8107514009941124, 0.8227809077637258, 0.8311833581296615, 0.8068462547500478, 0.7943967668388281, 0.7907744263241725, 0.8040145977633654, 0.8109298076534153, 0.8194559682509194, 0.8298566413820246, 0.8132842188738736, 0.7923038093457524, 0.7923052029012693, 0.8057204135462679, 0.8154849939993716, 0.8200251570599006, 0.8330568768743966, 0.8108692620074084, 0.7936662085887223, 0.792922221364815, 0.8046882319842108, 0.813324236549535, 0.8225725119074181, 0.8297208440022371, 0.808525380249304, 0.7972883588149074, 0.7912475857088532, 0.8037877971908717, 0.8135667527565476, 0.8198571638232841, 0.8284085851850643, 0.8090577732682386, 0.7926853529272613, 0.7894289991650011, 0.8043947483253266, 0.8079639664314086, 0.8163798761152234, 0.8263280574988204, 0.8022540325393859, 0.7919219852285831, 0.7894975327212002, 0.803432074651963, 0.8144842400580818, 0.8184916673349697, 0.8290379506781728, 0.8078960073761179, 0.7897969102911194, 0.7914658711030435, 0.7988704895842822, 0.8061739155759893, 0.8154869230692027, 0.8315442956987373, 0.8093215008574186, 0.7904194923339876, 0.7927236919891979, 0.7993589210353478, 0.8075354805284325, 0.8157004626927555, 0.8257708670313774, 0.8064502841303546, 0.7925884219796719, 0.7900693817250928, 0.7997428702434695, 0.8075453954391457, 0.8152795574032701, 0.8268438107295071, 0.8064620321349453, 0.7890946490289458, 0.788978234483745, 0.7976523540587357, 0.8044811927374923, 0.8199226751016894, 0.8268999712904281, 0.8045335808624752, 0.7937600845208477, 0.791114157110269, 0.7990174086008888, 0.8078398460219754, 0.8169258722149997, 0.8243110980230852, 0.8044821189016994, 0.7908165560405677, 0.7868880383048161, 0.7979043161738393, 0.8047777103916457, 0.8172984650183988, 0.8268530174991161, 0.8065477527710512, 0.7899412275857026, 0.7877134813053654, 0.7927176338227072, 0.8016692156458436, 0.8130293773759675, 0.8260226618765882, 0.8084934479046155, 0.7895447239553369, 0.7845743114978325, 0.7969555849752341, 0.8016777872124109, 0.8149544685118252, 0.8274905467281977, 0.8025664416135988, 0.7877385247879041, 0.7860008938491898, 0.7967421215446209, 0.8044950321263316, 0.8177704354625205, 0.8226802416973675, 0.8030375751929191, 0.7854693991740789, 0.782064441092303, 0.7932610339448062, 0.8043666092090942, 0.816127442237052, 0.8235941190680701, 0.8014845709495438, 0.7861201042829505, 0.7808058317515738, 0.7938084405226851, 0.8054072308014855, 0.8125101151996695, 0.8232688260365743, 0.8028126756508314, 0.7826582039697585, 0.782043272550485, 0.7945643283253505, 0.8012587905278054]}, {\"fill\": \"tonexty\", \"fillcolor\": \"rgba(0, 114, 178, 0.2)\", \"line\": {\"color\": \"#0072B2\", \"width\": 2}, \"mode\": \"lines\", \"name\": \"Predicted\", \"type\": \"scatter\", \"x\": [\"2020-07-01T00:00:00\", \"2020-07-02T00:00:00\", \"2020-07-03T00:00:00\", \"2020-07-04T00:00:00\", \"2020-07-05T00:00:00\", \"2020-07-06T00:00:00\", \"2020-07-07T00:00:00\", \"2020-07-08T00:00:00\", \"2020-07-09T00:00:00\", \"2020-07-10T00:00:00\", \"2020-07-11T00:00:00\", \"2020-07-12T00:00:00\", \"2020-07-13T00:00:00\", \"2020-07-14T00:00:00\", \"2020-07-15T00:00:00\", \"2020-07-16T00:00:00\", \"2020-07-17T00:00:00\", \"2020-07-18T00:00:00\", \"2020-07-19T00:00:00\", \"2020-07-20T00:00:00\", \"2020-07-21T00:00:00\", \"2020-07-22T00:00:00\", \"2020-07-23T00:00:00\", \"2020-07-24T00:00:00\", \"2020-07-25T00:00:00\", \"2020-07-26T00:00:00\", \"2020-07-27T00:00:00\", \"2020-07-28T00:00:00\", \"2020-07-29T00:00:00\", \"2020-07-30T00:00:00\", \"2020-07-31T00:00:00\", \"2020-08-01T00:00:00\", \"2020-08-02T00:00:00\", \"2020-08-03T00:00:00\", \"2020-08-04T00:00:00\", \"2020-08-05T00:00:00\", \"2020-08-06T00:00:00\", \"2020-08-07T00:00:00\", \"2020-08-08T00:00:00\", \"2020-08-09T00:00:00\", \"2020-08-10T00:00:00\", \"2020-08-11T00:00:00\", \"2020-08-12T00:00:00\", \"2020-08-13T00:00:00\", \"2020-08-14T00:00:00\", \"2020-08-15T00:00:00\", \"2020-08-16T00:00:00\", \"2020-08-17T00:00:00\", \"2020-08-18T00:00:00\", \"2020-08-19T00:00:00\", \"2020-08-20T00:00:00\", \"2020-08-21T00:00:00\", \"2020-08-22T00:00:00\", \"2020-08-23T00:00:00\", \"2020-08-24T00:00:00\", \"2020-08-25T00:00:00\", \"2020-08-26T00:00:00\", \"2020-08-27T00:00:00\", \"2020-08-28T00:00:00\", \"2020-08-29T00:00:00\", \"2020-08-30T00:00:00\", \"2020-08-31T00:00:00\", \"2020-09-01T00:00:00\", \"2020-09-02T00:00:00\", \"2020-09-03T00:00:00\", \"2020-09-04T00:00:00\", \"2020-09-05T00:00:00\", \"2020-09-06T00:00:00\", \"2020-09-07T00:00:00\", \"2020-09-08T00:00:00\", \"2020-09-09T00:00:00\", \"2020-09-10T00:00:00\", \"2020-09-11T00:00:00\", \"2020-09-12T00:00:00\", \"2020-09-13T00:00:00\", \"2020-09-14T00:00:00\", \"2020-09-15T00:00:00\", \"2020-09-16T00:00:00\", \"2020-09-17T00:00:00\", \"2020-09-18T00:00:00\", \"2020-09-19T00:00:00\", \"2020-09-20T00:00:00\", \"2020-09-21T00:00:00\", \"2020-09-22T00:00:00\", \"2020-09-23T00:00:00\", \"2020-09-24T00:00:00\", \"2020-09-25T00:00:00\", \"2020-09-26T00:00:00\", \"2020-09-27T00:00:00\", \"2020-09-28T00:00:00\", \"2020-09-29T00:00:00\", \"2020-09-30T00:00:00\", \"2020-10-01T00:00:00\", \"2020-10-02T00:00:00\", \"2020-10-03T00:00:00\", \"2020-10-04T00:00:00\", \"2020-10-05T00:00:00\", \"2020-10-06T00:00:00\", \"2020-10-07T00:00:00\", \"2020-10-08T00:00:00\", \"2020-10-09T00:00:00\", \"2020-10-10T00:00:00\", \"2020-10-11T00:00:00\", \"2020-10-12T00:00:00\", \"2020-10-13T00:00:00\", \"2020-10-14T00:00:00\", \"2020-10-15T00:00:00\", \"2020-10-16T00:00:00\", \"2020-10-17T00:00:00\", \"2020-10-18T00:00:00\", \"2020-10-19T00:00:00\", \"2020-10-20T00:00:00\", \"2020-10-21T00:00:00\", \"2020-10-22T00:00:00\", \"2020-10-23T00:00:00\", \"2020-10-24T00:00:00\", \"2020-10-25T00:00:00\", \"2020-10-26T00:00:00\", \"2020-10-27T00:00:00\", \"2020-10-28T00:00:00\", \"2020-10-29T00:00:00\", \"2020-10-30T00:00:00\", \"2020-10-31T00:00:00\", \"2020-11-01T00:00:00\", \"2020-11-02T00:00:00\", \"2020-11-03T00:00:00\", \"2020-11-04T00:00:00\", \"2020-11-05T00:00:00\", \"2020-11-06T00:00:00\", \"2020-11-07T00:00:00\", \"2020-11-08T00:00:00\", \"2020-11-09T00:00:00\", \"2020-11-10T00:00:00\", \"2020-11-11T00:00:00\", \"2020-11-12T00:00:00\", \"2020-11-13T00:00:00\", \"2020-11-14T00:00:00\", \"2020-11-15T00:00:00\", \"2020-11-16T00:00:00\", \"2020-11-17T00:00:00\", \"2020-11-18T00:00:00\", \"2020-11-19T00:00:00\", \"2020-11-20T00:00:00\", \"2020-11-21T00:00:00\", \"2020-11-22T00:00:00\", \"2020-11-23T00:00:00\", \"2020-11-24T00:00:00\", \"2020-11-25T00:00:00\", \"2020-11-26T00:00:00\", \"2020-11-27T00:00:00\", \"2020-11-28T00:00:00\", \"2020-11-29T00:00:00\", \"2020-11-30T00:00:00\", \"2020-12-01T00:00:00\", \"2020-12-02T00:00:00\", \"2020-12-03T00:00:00\", \"2020-12-04T00:00:00\", \"2020-12-05T00:00:00\", \"2020-12-06T00:00:00\", \"2020-12-07T00:00:00\", \"2020-12-08T00:00:00\", \"2020-12-09T00:00:00\", \"2020-12-10T00:00:00\", \"2020-12-11T00:00:00\", \"2020-12-12T00:00:00\", \"2020-12-13T00:00:00\", \"2020-12-14T00:00:00\", \"2020-12-15T00:00:00\", \"2020-12-16T00:00:00\", \"2020-12-17T00:00:00\", \"2020-12-18T00:00:00\", \"2020-12-19T00:00:00\", \"2020-12-20T00:00:00\", \"2020-12-21T00:00:00\", \"2020-12-22T00:00:00\", \"2020-12-23T00:00:00\", \"2020-12-24T00:00:00\", \"2020-12-25T00:00:00\", \"2020-12-26T00:00:00\", \"2020-12-27T00:00:00\", \"2020-12-28T00:00:00\", \"2020-12-29T00:00:00\", \"2020-12-30T00:00:00\", \"2020-12-31T00:00:00\", \"2021-01-01T00:00:00\", \"2021-01-02T00:00:00\", \"2021-01-03T00:00:00\", \"2021-01-04T00:00:00\", \"2021-01-05T00:00:00\", \"2021-01-06T00:00:00\", \"2021-01-07T00:00:00\", \"2021-01-08T00:00:00\", \"2021-01-09T00:00:00\", \"2021-01-10T00:00:00\", \"2021-01-11T00:00:00\", \"2021-01-12T00:00:00\", \"2021-01-13T00:00:00\", \"2021-01-14T00:00:00\", \"2021-01-15T00:00:00\", \"2021-01-16T00:00:00\", \"2021-01-17T00:00:00\", \"2021-01-18T00:00:00\", \"2021-01-19T00:00:00\", \"2021-01-20T00:00:00\", \"2021-01-21T00:00:00\", \"2021-01-22T00:00:00\", \"2021-01-23T00:00:00\", \"2021-01-24T00:00:00\", \"2021-01-25T00:00:00\", \"2021-01-26T00:00:00\", \"2021-01-27T00:00:00\", \"2021-01-28T00:00:00\", \"2021-01-29T00:00:00\", \"2021-01-30T00:00:00\", \"2021-01-31T00:00:00\", \"2021-02-01T00:00:00\", \"2021-02-02T00:00:00\", \"2021-02-03T00:00:00\", \"2021-02-04T00:00:00\", \"2021-02-05T00:00:00\", \"2021-02-06T00:00:00\", \"2021-02-07T00:00:00\", \"2021-02-08T00:00:00\", \"2021-02-09T00:00:00\", \"2021-02-10T00:00:00\", \"2021-02-11T00:00:00\", \"2021-02-12T00:00:00\", \"2021-02-13T00:00:00\", \"2021-02-14T00:00:00\", \"2021-02-15T00:00:00\", \"2021-02-16T00:00:00\", \"2021-02-17T00:00:00\", \"2021-02-18T00:00:00\", \"2021-02-19T00:00:00\", \"2021-02-20T00:00:00\", \"2021-02-21T00:00:00\", \"2021-02-22T00:00:00\", \"2021-02-23T00:00:00\", \"2021-02-24T00:00:00\", \"2021-02-25T00:00:00\", \"2021-02-26T00:00:00\", \"2021-02-27T00:00:00\", \"2021-02-28T00:00:00\", \"2021-03-01T00:00:00\", \"2021-03-02T00:00:00\", \"2021-03-03T00:00:00\", \"2021-03-04T00:00:00\", \"2021-03-05T00:00:00\", \"2021-03-06T00:00:00\", \"2021-03-07T00:00:00\", \"2021-03-08T00:00:00\", \"2021-03-09T00:00:00\", \"2021-03-10T00:00:00\", \"2021-03-11T00:00:00\", \"2021-03-12T00:00:00\", \"2021-03-13T00:00:00\", \"2021-03-14T00:00:00\", \"2021-03-15T00:00:00\", \"2021-03-16T00:00:00\", \"2021-03-17T00:00:00\", \"2021-03-18T00:00:00\", \"2021-03-19T00:00:00\", \"2021-03-20T00:00:00\", \"2021-03-21T00:00:00\", \"2021-03-22T00:00:00\", \"2021-03-23T00:00:00\", \"2021-03-24T00:00:00\", \"2021-03-25T00:00:00\", \"2021-03-26T00:00:00\", \"2021-03-27T00:00:00\", \"2021-03-28T00:00:00\", \"2021-03-29T00:00:00\", \"2021-03-30T00:00:00\", \"2021-03-31T00:00:00\", \"2021-04-01T00:00:00\", \"2021-04-02T00:00:00\", \"2021-04-03T00:00:00\", \"2021-04-04T00:00:00\", \"2021-04-05T00:00:00\", \"2021-04-06T00:00:00\", \"2021-04-07T00:00:00\", \"2021-04-08T00:00:00\", \"2021-04-09T00:00:00\", \"2021-04-10T00:00:00\", \"2021-04-11T00:00:00\", \"2021-04-12T00:00:00\", \"2021-04-13T00:00:00\", \"2021-04-14T00:00:00\", \"2021-04-15T00:00:00\", \"2021-04-16T00:00:00\", \"2021-04-17T00:00:00\", \"2021-04-18T00:00:00\", \"2021-04-19T00:00:00\", \"2021-04-20T00:00:00\", \"2021-04-21T00:00:00\", \"2021-04-22T00:00:00\", \"2021-04-23T00:00:00\", \"2021-04-24T00:00:00\", \"2021-04-25T00:00:00\", \"2021-04-26T00:00:00\", \"2021-04-27T00:00:00\", \"2021-04-28T00:00:00\", \"2021-04-29T00:00:00\", \"2021-04-30T00:00:00\", \"2021-05-01T00:00:00\", \"2021-05-02T00:00:00\", \"2021-05-03T00:00:00\", \"2021-05-04T00:00:00\", \"2021-05-05T00:00:00\", \"2021-05-06T00:00:00\", \"2021-05-07T00:00:00\", \"2021-05-08T00:00:00\", \"2021-05-09T00:00:00\", \"2021-05-10T00:00:00\", \"2021-05-11T00:00:00\", \"2021-05-12T00:00:00\", \"2021-05-13T00:00:00\", \"2021-05-14T00:00:00\", \"2021-05-15T00:00:00\", \"2021-05-16T00:00:00\", \"2021-05-17T00:00:00\", \"2021-05-18T00:00:00\", \"2021-05-19T00:00:00\", \"2021-05-20T00:00:00\", \"2021-05-21T00:00:00\", \"2021-05-22T00:00:00\", \"2021-05-23T00:00:00\", \"2021-05-24T00:00:00\", \"2021-05-25T00:00:00\", \"2021-05-26T00:00:00\", \"2021-05-27T00:00:00\", \"2021-05-28T00:00:00\", \"2021-05-29T00:00:00\", \"2021-05-30T00:00:00\", \"2021-05-31T00:00:00\", \"2021-06-01T00:00:00\", \"2021-06-02T00:00:00\", \"2021-06-03T00:00:00\", \"2021-06-04T00:00:00\", \"2021-06-05T00:00:00\", \"2021-06-06T00:00:00\", \"2021-06-07T00:00:00\", \"2021-06-08T00:00:00\", \"2021-06-09T00:00:00\", \"2021-06-10T00:00:00\", \"2021-06-11T00:00:00\", \"2021-06-12T00:00:00\", \"2021-06-13T00:00:00\", \"2021-06-14T00:00:00\", \"2021-06-15T00:00:00\", \"2021-06-16T00:00:00\", \"2021-06-17T00:00:00\", \"2021-06-18T00:00:00\", \"2021-06-19T00:00:00\", \"2021-06-20T00:00:00\", \"2021-06-21T00:00:00\", \"2021-06-22T00:00:00\", \"2021-06-23T00:00:00\", \"2021-06-24T00:00:00\", \"2021-06-25T00:00:00\", \"2021-06-26T00:00:00\", \"2021-06-27T00:00:00\", \"2021-06-28T00:00:00\", \"2021-06-29T00:00:00\", \"2021-06-30T00:00:00\", \"2021-07-01T00:00:00\", \"2021-07-02T00:00:00\", \"2021-07-03T00:00:00\", \"2021-07-04T00:00:00\", \"2021-07-05T00:00:00\", \"2021-07-06T00:00:00\", \"2021-07-07T00:00:00\"], \"y\": [0.8591956596785301, 0.8673421699640785, 0.8775508075236897, 0.8571654989078433, 0.841194040840089, 0.8388440908134265, 0.8496932282864514, 0.8593784301908083, 0.867524940476363, 0.8777335780359568, 0.8573482694200897, 0.8413768113523339, 0.8390268613592035, 0.8498759988657192, 0.8595612008035813, 0.8677077111226404, 0.8779163487157302, 0.8575310401334271, 0.8415595820990915, 0.8392096321059537, 0.8500587696124785, 0.859743971550297, 0.8678904818693949, 0.8780991192734461, 0.8577138105020923, 0.8417423522787237, 0.8393924020965862, 0.8502415394140294, 0.8599267411628518, 0.8680732512929036, 0.8782818886969358, 0.8578965799255689, 0.8419251217022634, 0.8395751715200728, 0.8504243088719153, 0.860109510655121, 0.8682560208195751, 0.878464658257988, 0.8580793495209929, 0.8421078913320763, 0.8397579411842936, 0.8506070785361453, 0.860292280319358, 0.8684387904837593, 0.8786474279222287, 0.8582621103271921, 0.8422906432802689, 0.8399406842744939, 0.8507898127682668, 0.8604750056935057, 0.8686215069998863, 0.8788301355803263, 0.8584448179852724, 0.8424733509383601, 0.8401233919325538, 0.8509720437000664, 0.8606567598989725, 0.8688027844790368, 0.8790109363331369, 0.8586251420118408, 0.8426531982385154, 0.840302762506408, 0.8511514142738958, 0.8608361304728117, 0.8689821550528783, 0.879190306906976, 0.8588038584753884, 0.8428312605917878, 0.8404801707494053, 0.851328168406639, 0.8610122304952287, 0.8691576009650076, 0.879365098708856, 0.8589786502772555, 0.843006052393672, 0.8406549625512788, 0.8515029602085422, 0.8611866939410688, 0.8693317360547923, 0.8795389054425781, 0.8591521286549061, 0.8431792024153141, 0.8408277842168398, 0.8516754535180422, 0.8613591872505932, 0.8695042293643229, 0.879711398752108, 0.8593246219643987, 0.8433516441668496, 0.8410001744104041, 0.8518477921536359, 0.8615314743281818, 0.8696764648839339, 0.8798835827137361, 0.8594967543680413, 0.8435237765704909, 0.8411723068140671, 0.8520199245572542, 0.8617036067318589, 0.8698484695466551, 0.8800554596354925, 0.8596685035488294, 0.843695398010388, 0.8413438005129922, 0.8521912905152416, 0.8618748449488378, 0.870019707763682, 0.8802266978525076, 0.8598397417659285, 0.8438666362273968, 0.8415150347407545, 0.8523625207537444, 0.8620460711980991, 0.8701909300236534, 0.8803979161232678, 0.8600109560474243, 0.8440378465196584, 0.8416862450330417, 0.8525337310460249, 0.8622172814903838, 0.8703621403159207, 0.8805691264870157, 0.8601821664826531, 0.8442090570263967, 0.8418574556112286, 0.8527049416957491, 0.8623884922115926, 0.8705333511086426, 0.8807403372797203, 0.8603533772754323, 0.8443802678190788, 0.8420286664039446, 0.8528761524464755, 0.8625597029204185, 0.8707045617755116, 0.8809115479046601, 0.8605245878584034, 0.8445514783601165, 0.8421998769030299, 0.8530473629455698, 0.8627309134194692, 0.8708757722746191, 0.8810827584110855, 0.8606957983721469, 0.8447226888812076, 0.8423710874314959, 0.853218573481366, 0.8629021239626067, 0.8710469828250854, 0.8812539689615327, 0.8608670089225812, 0.8448938994316922, 0.8425422979819398, 0.8533897840139264, 0.8630733344773015, 0.8712181933219074, 0.8814251794404971, 0.8610382193836329, 0.8450651098748796, 0.8427135084072207, 0.8535609944392696, 0.8632445449026346, 0.8713894037471966, 0.8815963898658156, 0.8612094298458676, 0.845236320374047, 0.842884718943335, 0.8537322050122444, 0.863415755512575, 0.871560614394056, 0.881767600549588, 0.8613806405296194, 0.8454075310577971, 0.8430559296271025, 0.853903415696038, 0.863586966287431, 0.8717318252599905, 0.8819388115065744, 0.8615518515777623, 0.8455787421969345, 0.8432271408573215, 0.8540746270173047, 0.8637581776087074, 0.8719030365812196, 0.8821100228278509, 0.8617230628990274, 0.845749953531521, 0.8433983522052462, 0.8542458383785558, 0.8639293889832433, 0.8720742479690998, 0.8822812342290287, 0.8618942743135088, 0.8459211649460655, 0.8435695636197177, 0.8544170497930733, 0.8641006003977362, 0.872245459386825, 0.8824524456499644, 0.8620654857376463, 0.8460923763734218, 0.8437407750503121, 0.8545882612268799, 0.8642718118347877, 0.8724166708238735, 0.8826236570870215, 0.8622366971746779, 0.8462635878104647, 0.8439119822478423, 0.854759464184898, 0.8644430105532233, 0.8725878653028352, 0.8827948473264496, 0.862407883174567, 0.8464347695708428, 0.8440831640082419, 0.8549306459452531, 0.864614192313637, 0.8727590470632406, 0.8829597515759978, 0.8625665099133497, 0.8465871187987469, 0.8442292357252815, 0.8550704401514453, 0.8647477090089816, 0.872886286247748, 0.8830869907605025, 0.8626937490978432, 0.8467143579832451, 0.844350822720265, 0.8551863749569178, 0.8648579916249268, 0.8729909166741441, 0.8831859689974098, 0.8627870751452177, 0.846802031841117, 0.8444384965781623, 0.8552740488147714, 0.8649456654828218, 0.8730785905320216, 0.8832381369271128, 0.862803737146743, 0.8467831879144699, 0.8443841467233318, 0.8551841930318214, 0.8648203037716996, 0.8729177228927556, 0.8830772692878461, 0.8626428695075342, 0.8466223202751891, 0.84422327908406, 0.8549813428499847, 0.8645754710473128, 0.8726309076257996, 0.8827484714783301, 0.8622720891554556, 0.8462095573805646, 0.8437685336468872, 0.8545265974128045, 0.8641207256101036, 0.8721761621886325, 0.882293726041144, 0.8617967628431311, 0.8457136501931313, 0.8432520455843197, 0.8539895284751633, 0.8635630757973327, 0.8715979315007485, 0.8816949144781215, 0.8611979512800955, 0.8451148386301464, 0.842653234021294, 0.8533907169121294, 0.8629642637843916, 0.8709991190378934, 0.8810961015653671, 0.8605991379173931, 0.8445160248175319, 0.8420544197588007, 0.8527919021997125, 0.8623654490719648, 0.8704003043254225, 0.8804972868529255, 0.8600003232049401, 0.8439172101050963, 0.8414556050463576, 0.8521930874872414, 0.8617666343595377, 0.8698014896129928, 0.8798984721404876, 0.8594015084924815, 0.8433183953926817, 0.8408567903339147, 0.8515942727748075, 0.8611678196471108, 0.869202674900563, 0.879299657428046, 0.858802693780124, 0.8427195806802461, 0.8402579756214882, 0.8509954580623734, 0.8605690049346693, 0.8686038601880831, 0.8787008427156044, 0.8582038790676713, 0.8421207659677982, 0.8396591609090617, 0.8503966433499566, 0.8599701902222208, 0.8680050454756624, 0.8781020280031665, 0.8576050643552183, 0.8415219512553501, 0.8390603461965989, 0.8497978286375397, 0.8593713755097792, 0.8674062307632324, 0.8775032132907249, 0.8570062496427596, 0.8409231365429022, 0.8384615314841559, 0.8491990139250885, 0.8587725607973522, 0.8668074160508027, 0.8769043985783034, 0.856407434930408, 0.8403243218304666, 0.8378627167717458, 0.8486001992126717, 0.8581737460848892, 0.8662086013383729, 0.8763055838658619, 0.8558086202179493, 0.8397255071180186, 0.8372639020593029, 0.8480013845002006, 0.8575749313724622, 0.8656097866259521, 0.8757067691534239, 0.8552098055054906, 0.8391266924056164, 0.8366650873468764, 0.8474025697877665, 0.8569761166600206, 0.8650109719135132, 0.8751079544409823, 0.8546109907930438, 0.8385278776931684, 0.8360662726344498, 0.8468037550753326, 0.8563773019475791, 0.8644121572010425, 0.8745091397285609, 0.8540121760805851, 0.8379290629807329, 0.8354674579220233, 0.8462049403628786, 0.8557784872351667, 0.8638133424886126, 0.8739103250161212, 0.8534133613681323, 0.8373302482682725, 0.8348686432095441, 0.8456061256504274, 0.8551796725227251, 0.8632145277761828, 0.8733115103036814, 0.8528145466557688, 0.8367314335558369, 0.8342698284971176, 0.8450073109380106, 0.8545808578102981]}, {\"fill\": \"tonexty\", \"fillcolor\": \"rgba(0, 114, 178, 0.2)\", \"hoverinfo\": \"skip\", \"line\": {\"width\": 0}, \"mode\": \"lines\", \"type\": \"scatter\", \"x\": [\"2020-07-01T00:00:00\", \"2020-07-02T00:00:00\", \"2020-07-03T00:00:00\", \"2020-07-04T00:00:00\", \"2020-07-05T00:00:00\", \"2020-07-06T00:00:00\", \"2020-07-07T00:00:00\", \"2020-07-08T00:00:00\", \"2020-07-09T00:00:00\", \"2020-07-10T00:00:00\", \"2020-07-11T00:00:00\", \"2020-07-12T00:00:00\", \"2020-07-13T00:00:00\", \"2020-07-14T00:00:00\", \"2020-07-15T00:00:00\", \"2020-07-16T00:00:00\", \"2020-07-17T00:00:00\", \"2020-07-18T00:00:00\", \"2020-07-19T00:00:00\", \"2020-07-20T00:00:00\", \"2020-07-21T00:00:00\", \"2020-07-22T00:00:00\", \"2020-07-23T00:00:00\", \"2020-07-24T00:00:00\", \"2020-07-25T00:00:00\", \"2020-07-26T00:00:00\", \"2020-07-27T00:00:00\", \"2020-07-28T00:00:00\", \"2020-07-29T00:00:00\", \"2020-07-30T00:00:00\", \"2020-07-31T00:00:00\", \"2020-08-01T00:00:00\", \"2020-08-02T00:00:00\", \"2020-08-03T00:00:00\", \"2020-08-04T00:00:00\", \"2020-08-05T00:00:00\", \"2020-08-06T00:00:00\", \"2020-08-07T00:00:00\", \"2020-08-08T00:00:00\", \"2020-08-09T00:00:00\", \"2020-08-10T00:00:00\", \"2020-08-11T00:00:00\", \"2020-08-12T00:00:00\", \"2020-08-13T00:00:00\", \"2020-08-14T00:00:00\", \"2020-08-15T00:00:00\", \"2020-08-16T00:00:00\", \"2020-08-17T00:00:00\", \"2020-08-18T00:00:00\", \"2020-08-19T00:00:00\", \"2020-08-20T00:00:00\", \"2020-08-21T00:00:00\", \"2020-08-22T00:00:00\", \"2020-08-23T00:00:00\", \"2020-08-24T00:00:00\", \"2020-08-25T00:00:00\", \"2020-08-26T00:00:00\", \"2020-08-27T00:00:00\", \"2020-08-28T00:00:00\", \"2020-08-29T00:00:00\", \"2020-08-30T00:00:00\", \"2020-08-31T00:00:00\", \"2020-09-01T00:00:00\", \"2020-09-02T00:00:00\", \"2020-09-03T00:00:00\", \"2020-09-04T00:00:00\", \"2020-09-05T00:00:00\", \"2020-09-06T00:00:00\", \"2020-09-07T00:00:00\", \"2020-09-08T00:00:00\", \"2020-09-09T00:00:00\", \"2020-09-10T00:00:00\", \"2020-09-11T00:00:00\", \"2020-09-12T00:00:00\", \"2020-09-13T00:00:00\", \"2020-09-14T00:00:00\", \"2020-09-15T00:00:00\", \"2020-09-16T00:00:00\", \"2020-09-17T00:00:00\", \"2020-09-18T00:00:00\", \"2020-09-19T00:00:00\", \"2020-09-20T00:00:00\", \"2020-09-21T00:00:00\", \"2020-09-22T00:00:00\", \"2020-09-23T00:00:00\", \"2020-09-24T00:00:00\", \"2020-09-25T00:00:00\", \"2020-09-26T00:00:00\", \"2020-09-27T00:00:00\", \"2020-09-28T00:00:00\", \"2020-09-29T00:00:00\", \"2020-09-30T00:00:00\", \"2020-10-01T00:00:00\", \"2020-10-02T00:00:00\", \"2020-10-03T00:00:00\", \"2020-10-04T00:00:00\", \"2020-10-05T00:00:00\", \"2020-10-06T00:00:00\", \"2020-10-07T00:00:00\", \"2020-10-08T00:00:00\", \"2020-10-09T00:00:00\", \"2020-10-10T00:00:00\", \"2020-10-11T00:00:00\", \"2020-10-12T00:00:00\", \"2020-10-13T00:00:00\", \"2020-10-14T00:00:00\", \"2020-10-15T00:00:00\", \"2020-10-16T00:00:00\", \"2020-10-17T00:00:00\", \"2020-10-18T00:00:00\", \"2020-10-19T00:00:00\", \"2020-10-20T00:00:00\", \"2020-10-21T00:00:00\", \"2020-10-22T00:00:00\", \"2020-10-23T00:00:00\", \"2020-10-24T00:00:00\", \"2020-10-25T00:00:00\", \"2020-10-26T00:00:00\", \"2020-10-27T00:00:00\", \"2020-10-28T00:00:00\", \"2020-10-29T00:00:00\", \"2020-10-30T00:00:00\", \"2020-10-31T00:00:00\", \"2020-11-01T00:00:00\", \"2020-11-02T00:00:00\", \"2020-11-03T00:00:00\", \"2020-11-04T00:00:00\", \"2020-11-05T00:00:00\", \"2020-11-06T00:00:00\", \"2020-11-07T00:00:00\", \"2020-11-08T00:00:00\", \"2020-11-09T00:00:00\", \"2020-11-10T00:00:00\", \"2020-11-11T00:00:00\", \"2020-11-12T00:00:00\", \"2020-11-13T00:00:00\", \"2020-11-14T00:00:00\", \"2020-11-15T00:00:00\", \"2020-11-16T00:00:00\", \"2020-11-17T00:00:00\", \"2020-11-18T00:00:00\", \"2020-11-19T00:00:00\", \"2020-11-20T00:00:00\", \"2020-11-21T00:00:00\", \"2020-11-22T00:00:00\", \"2020-11-23T00:00:00\", \"2020-11-24T00:00:00\", \"2020-11-25T00:00:00\", \"2020-11-26T00:00:00\", \"2020-11-27T00:00:00\", \"2020-11-28T00:00:00\", \"2020-11-29T00:00:00\", \"2020-11-30T00:00:00\", \"2020-12-01T00:00:00\", \"2020-12-02T00:00:00\", \"2020-12-03T00:00:00\", \"2020-12-04T00:00:00\", \"2020-12-05T00:00:00\", \"2020-12-06T00:00:00\", \"2020-12-07T00:00:00\", \"2020-12-08T00:00:00\", \"2020-12-09T00:00:00\", \"2020-12-10T00:00:00\", \"2020-12-11T00:00:00\", \"2020-12-12T00:00:00\", \"2020-12-13T00:00:00\", \"2020-12-14T00:00:00\", \"2020-12-15T00:00:00\", \"2020-12-16T00:00:00\", \"2020-12-17T00:00:00\", \"2020-12-18T00:00:00\", \"2020-12-19T00:00:00\", \"2020-12-20T00:00:00\", \"2020-12-21T00:00:00\", \"2020-12-22T00:00:00\", \"2020-12-23T00:00:00\", \"2020-12-24T00:00:00\", \"2020-12-25T00:00:00\", \"2020-12-26T00:00:00\", \"2020-12-27T00:00:00\", \"2020-12-28T00:00:00\", \"2020-12-29T00:00:00\", \"2020-12-30T00:00:00\", \"2020-12-31T00:00:00\", \"2021-01-01T00:00:00\", \"2021-01-02T00:00:00\", \"2021-01-03T00:00:00\", \"2021-01-04T00:00:00\", \"2021-01-05T00:00:00\", \"2021-01-06T00:00:00\", \"2021-01-07T00:00:00\", \"2021-01-08T00:00:00\", \"2021-01-09T00:00:00\", \"2021-01-10T00:00:00\", \"2021-01-11T00:00:00\", \"2021-01-12T00:00:00\", \"2021-01-13T00:00:00\", \"2021-01-14T00:00:00\", \"2021-01-15T00:00:00\", \"2021-01-16T00:00:00\", \"2021-01-17T00:00:00\", \"2021-01-18T00:00:00\", \"2021-01-19T00:00:00\", \"2021-01-20T00:00:00\", \"2021-01-21T00:00:00\", \"2021-01-22T00:00:00\", \"2021-01-23T00:00:00\", \"2021-01-24T00:00:00\", \"2021-01-25T00:00:00\", \"2021-01-26T00:00:00\", \"2021-01-27T00:00:00\", \"2021-01-28T00:00:00\", \"2021-01-29T00:00:00\", \"2021-01-30T00:00:00\", \"2021-01-31T00:00:00\", \"2021-02-01T00:00:00\", \"2021-02-02T00:00:00\", \"2021-02-03T00:00:00\", \"2021-02-04T00:00:00\", \"2021-02-05T00:00:00\", \"2021-02-06T00:00:00\", \"2021-02-07T00:00:00\", \"2021-02-08T00:00:00\", \"2021-02-09T00:00:00\", \"2021-02-10T00:00:00\", \"2021-02-11T00:00:00\", \"2021-02-12T00:00:00\", \"2021-02-13T00:00:00\", \"2021-02-14T00:00:00\", \"2021-02-15T00:00:00\", \"2021-02-16T00:00:00\", \"2021-02-17T00:00:00\", \"2021-02-18T00:00:00\", \"2021-02-19T00:00:00\", \"2021-02-20T00:00:00\", \"2021-02-21T00:00:00\", \"2021-02-22T00:00:00\", \"2021-02-23T00:00:00\", \"2021-02-24T00:00:00\", \"2021-02-25T00:00:00\", \"2021-02-26T00:00:00\", \"2021-02-27T00:00:00\", \"2021-02-28T00:00:00\", \"2021-03-01T00:00:00\", \"2021-03-02T00:00:00\", \"2021-03-03T00:00:00\", \"2021-03-04T00:00:00\", \"2021-03-05T00:00:00\", \"2021-03-06T00:00:00\", \"2021-03-07T00:00:00\", \"2021-03-08T00:00:00\", \"2021-03-09T00:00:00\", \"2021-03-10T00:00:00\", \"2021-03-11T00:00:00\", \"2021-03-12T00:00:00\", \"2021-03-13T00:00:00\", \"2021-03-14T00:00:00\", \"2021-03-15T00:00:00\", \"2021-03-16T00:00:00\", \"2021-03-17T00:00:00\", \"2021-03-18T00:00:00\", \"2021-03-19T00:00:00\", \"2021-03-20T00:00:00\", \"2021-03-21T00:00:00\", \"2021-03-22T00:00:00\", \"2021-03-23T00:00:00\", \"2021-03-24T00:00:00\", \"2021-03-25T00:00:00\", \"2021-03-26T00:00:00\", \"2021-03-27T00:00:00\", \"2021-03-28T00:00:00\", \"2021-03-29T00:00:00\", \"2021-03-30T00:00:00\", \"2021-03-31T00:00:00\", \"2021-04-01T00:00:00\", \"2021-04-02T00:00:00\", \"2021-04-03T00:00:00\", \"2021-04-04T00:00:00\", \"2021-04-05T00:00:00\", \"2021-04-06T00:00:00\", \"2021-04-07T00:00:00\", \"2021-04-08T00:00:00\", \"2021-04-09T00:00:00\", \"2021-04-10T00:00:00\", \"2021-04-11T00:00:00\", \"2021-04-12T00:00:00\", \"2021-04-13T00:00:00\", \"2021-04-14T00:00:00\", \"2021-04-15T00:00:00\", \"2021-04-16T00:00:00\", \"2021-04-17T00:00:00\", \"2021-04-18T00:00:00\", \"2021-04-19T00:00:00\", \"2021-04-20T00:00:00\", \"2021-04-21T00:00:00\", \"2021-04-22T00:00:00\", \"2021-04-23T00:00:00\", \"2021-04-24T00:00:00\", \"2021-04-25T00:00:00\", \"2021-04-26T00:00:00\", \"2021-04-27T00:00:00\", \"2021-04-28T00:00:00\", \"2021-04-29T00:00:00\", \"2021-04-30T00:00:00\", \"2021-05-01T00:00:00\", \"2021-05-02T00:00:00\", \"2021-05-03T00:00:00\", \"2021-05-04T00:00:00\", \"2021-05-05T00:00:00\", \"2021-05-06T00:00:00\", \"2021-05-07T00:00:00\", \"2021-05-08T00:00:00\", \"2021-05-09T00:00:00\", \"2021-05-10T00:00:00\", \"2021-05-11T00:00:00\", \"2021-05-12T00:00:00\", \"2021-05-13T00:00:00\", \"2021-05-14T00:00:00\", \"2021-05-15T00:00:00\", \"2021-05-16T00:00:00\", \"2021-05-17T00:00:00\", \"2021-05-18T00:00:00\", \"2021-05-19T00:00:00\", \"2021-05-20T00:00:00\", \"2021-05-21T00:00:00\", \"2021-05-22T00:00:00\", \"2021-05-23T00:00:00\", \"2021-05-24T00:00:00\", \"2021-05-25T00:00:00\", \"2021-05-26T00:00:00\", \"2021-05-27T00:00:00\", \"2021-05-28T00:00:00\", \"2021-05-29T00:00:00\", \"2021-05-30T00:00:00\", \"2021-05-31T00:00:00\", \"2021-06-01T00:00:00\", \"2021-06-02T00:00:00\", \"2021-06-03T00:00:00\", \"2021-06-04T00:00:00\", \"2021-06-05T00:00:00\", \"2021-06-06T00:00:00\", \"2021-06-07T00:00:00\", \"2021-06-08T00:00:00\", \"2021-06-09T00:00:00\", \"2021-06-10T00:00:00\", \"2021-06-11T00:00:00\", \"2021-06-12T00:00:00\", \"2021-06-13T00:00:00\", \"2021-06-14T00:00:00\", \"2021-06-15T00:00:00\", \"2021-06-16T00:00:00\", \"2021-06-17T00:00:00\", \"2021-06-18T00:00:00\", \"2021-06-19T00:00:00\", \"2021-06-20T00:00:00\", \"2021-06-21T00:00:00\", \"2021-06-22T00:00:00\", \"2021-06-23T00:00:00\", \"2021-06-24T00:00:00\", \"2021-06-25T00:00:00\", \"2021-06-26T00:00:00\", \"2021-06-27T00:00:00\", \"2021-06-28T00:00:00\", \"2021-06-29T00:00:00\", \"2021-06-30T00:00:00\", \"2021-07-01T00:00:00\", \"2021-07-02T00:00:00\", \"2021-07-03T00:00:00\", \"2021-07-04T00:00:00\", \"2021-07-05T00:00:00\", \"2021-07-06T00:00:00\", \"2021-07-07T00:00:00\"], \"y\": [0.9106912546994449, 0.9225607243591016, 0.9288586871925935, 0.906413065116764, 0.8932699056716383, 0.8914422299669332, 0.8995787050367522, 0.9114926294530533, 0.9226123806214609, 0.9303983036523444, 0.9127329612886086, 0.8874911809296012, 0.8865465472938632, 0.8976891017282997, 0.9087096672275998, 0.9210924977741812, 0.9289871463483024, 0.9117980270483806, 0.8938275951749606, 0.8903442442837484, 0.9008624150029865, 0.9136502469259468, 0.9181103695901927, 0.9280485222825906, 0.9076696341266132, 0.8940410980613824, 0.8887839793348361, 0.8996341567899796, 0.9113940555185593, 0.9191216087534617, 0.9283701452081273, 0.9101596224302163, 0.8951413723504977, 0.8871522426355258, 0.9002421787024438, 0.9079334359131771, 0.9170158878484359, 0.9299271087457938, 0.9106060513863711, 0.8891711048261384, 0.8941080971799176, 0.9017206408825205, 0.9132266684599785, 0.9239994567802121, 0.9295570143175234, 0.9112542588833467, 0.8944138530863404, 0.8873157989386458, 0.9043573861767275, 0.9136685269740987, 0.9229654959325835, 0.92940502724421, 0.9117386384124235, 0.8938875090553375, 0.8906288597139091, 0.9029404084991572, 0.9104821849113071, 0.9208582123144482, 0.9275306596551629, 0.9095542032479191, 0.8972123016539365, 0.894469566856459, 0.9043977990957662, 0.9113917189441968, 0.9229025666707406, 0.928100299879376, 0.9061123972021381, 0.8960831298899888, 0.8944806895639675, 0.9030341475679866, 0.9115782808581262, 0.9184668219053264, 0.9326585340091748, 0.9093686619548332, 0.8954118093729202, 0.8918833922221011, 0.9072643864942221, 0.9129879951358059, 0.9217366578559979, 0.9308578610971957, 0.9079227588778453, 0.8972281916304528, 0.8908076361600406, 0.8980996999386333, 0.9115159461548519, 0.9214121249259146, 0.9325965995835648, 0.9107225498346586, 0.8948543096384317, 0.8942731295456672, 0.9024372830955882, 0.9103023551215487, 0.9217555527996524, 0.9288148090886725, 0.9095910393209915, 0.894134948326257, 0.8903609683602662, 0.9025217449693074, 0.910379051729916, 0.9212206767422452, 0.9300962574609336, 0.9123863103344579, 0.8981792909448774, 0.8894126259245129, 0.8986846001542357, 0.9148644405064087, 0.9220315925694529, 0.9272230424365988, 0.910282010965511, 0.8975275904337084, 0.8946344467509317, 0.9032650013220219, 0.9137320477213402, 0.9218128486581566, 0.9312186633835705, 0.9078495994934375, 0.8945777850279149, 0.8928142313843948, 0.9035581456182109, 0.9142230187638014, 0.9235190863906897, 0.9356328159541244, 0.9128974755902243, 0.8932651061512207, 0.8939591861191692, 0.9042874141947239, 0.9138057439546079, 0.9245975426349269, 0.9326307143000742, 0.9107423987215981, 0.8983720754865236, 0.8925908556164504, 0.9042657300408564, 0.9158897532499145, 0.9242575933781217, 0.9304225396956618, 0.910497116107347, 0.897626238402198, 0.8948803364278162, 0.904235560897262, 0.9095491052735452, 0.9223797243174343, 0.9351624379046849, 0.9088516966198015, 0.8975762734311774, 0.8907802366028883, 0.9056928743889108, 0.9142380290264148, 0.9183734389459931, 0.9337076133385056, 0.9134084244692041, 0.8938442870189756, 0.8923419917926527, 0.9016635574142577, 0.9124411383914526, 0.918675926366842, 0.9298192056366288, 0.9109646696653863, 0.8920377650100405, 0.8935740641617432, 0.9041241705340685, 0.911403034635167, 0.9225585391068392, 0.9315435027145, 0.9119514382491144, 0.8970901244306857, 0.8949619245120769, 0.9042312376262698, 0.9124385813241491, 0.9219031134070248, 0.933070256023219, 0.9169190332957717, 0.8978329873306002, 0.8913847138485004, 0.9033406715913596, 0.9112194472583818, 0.9252272839241446, 0.9342388904492231, 0.9132931763491693, 0.8954237012157954, 0.891889023607466, 0.9063156797201427, 0.9110809250953602, 0.9236024767086353, 0.9313083799433668, 0.9136747930133993, 0.8945189840189589, 0.8918510903986054, 0.9065987750507656, 0.9150781061987036, 0.9217502384391576, 0.9358814103415126, 0.9127484665479962, 0.8990640251440982, 0.8945992209203196, 0.9049725047234793, 0.9164312758466266, 0.923868017328346, 0.933228126255882, 0.9152993499274369, 0.8973724493313098, 0.8945406854835405, 0.9064222116539483, 0.9144064555198543, 0.92492878434034, 0.9339707257527703, 0.9105372607404945, 0.898745524497083, 0.8941986064376863, 0.9087141762899106, 0.9122778552688214, 0.9273628404414694, 0.935785903183338, 0.9142310156069133, 0.8960688995171424, 0.8972102447961083, 0.9052653004016729, 0.9183137036891575, 0.9245448679521096, 0.9380351454078831, 0.9140860422437949, 0.8972980815942053, 0.8929719008707485, 0.9069433862157417, 0.9206054416158145, 0.9214979333373868, 0.9351274336023362, 0.9166790542403638, 0.8946268247784259, 0.896576062437178, 0.9076823578734008, 0.917593128454345, 0.9262209615993995, 0.935623947595346, 0.912780592808683, 0.8976061040265362, 0.8962673860627378, 0.9058670123942543, 0.9170505412291166, 0.9228968834412321, 0.9322689238145612, 0.9145733981808759, 0.9009151681884904, 0.8959181424838101, 0.9066716475484332, 0.9178842880950729, 0.9220807202812085, 0.9357363095627724, 0.913776426321538, 0.8994146013933384, 0.894077022252411, 0.9058098930487403, 0.9171020897262213, 0.9253105035552849, 0.9327076656014, 0.9157215868939528, 0.8972966519383209, 0.8993087433321827, 0.9063718284301499, 0.919927422005822, 0.9210531287623551, 0.9341229735744998, 0.9115177135389245, 0.8949437268326554, 0.8913354300936859, 0.9085360107311853, 0.9142288946636908, 0.921454977704947, 0.9341728034580119, 0.9131721202608579, 0.896004065747942, 0.8906451856772325, 0.9077248540006694, 0.914271545721679, 0.9229959456016091, 0.9300933552374175, 0.9128559408982742, 0.8960372784797779, 0.8945986866505782, 0.9072058009477202, 0.9110304570579113, 0.9193397761876515, 0.9304808741770518, 0.9123207178355515, 0.8915323949651266, 0.892972088112184, 0.9012419855087888, 0.9128946232057444, 0.9192243982198555, 0.9270980101038071, 0.9142289028562615, 0.8963289528391362, 0.8897999472899595, 0.9007651106407583, 0.9105765342400695, 0.9201520057146831, 0.9346665322235209, 0.9042384428279209, 0.890151244837841, 0.8898516904148566, 0.9007384579219697, 0.9122943486834236, 0.9180834268443016, 0.9295799428984416, 0.910750573802037, 0.8914472107423723, 0.893061430650599, 0.8988516917343771, 0.912484496223531, 0.916614058263848, 0.9275718574639193, 0.9080367649039882, 0.8935240272336757, 0.8906971084589775, 0.8995866057964254, 0.9124262901274368, 0.9188087537711892, 0.9265890191145616, 0.9100078315545508, 0.8896294028495155, 0.8901971275180545, 0.9031260995135308, 0.9106725326103007, 0.9164398654721104, 0.9242551166283145, 0.9037456066315463, 0.8890308778865388, 0.8886362598058976, 0.8997645477855614, 0.9099876812177081, 0.9152360077186026, 0.925724216240485, 0.9091169731512044, 0.8934088601529838, 0.8862548717635049, 0.8970919218791387, 0.9098987426978817, 0.916632822904674, 0.9238105235670823, 0.9085969153786151, 0.8940928667599196, 0.8871056367091473, 0.8980793120322486, 0.9054381245321822, 0.9129360961614057, 0.9273618351149563, 0.9062050535826982, 0.8900149668420623, 0.8886563709521188, 0.9023847680149174, 0.9087747493560077, 0.9147796572680398, 0.9273826456589934, 0.9070095701242996, 0.8884836410427362, 0.8897523969624518, 0.8914408938472763, 0.9084202601451971, 0.9173271697703828, 0.9261667558076809, 0.9050655874422474, 0.8890720744421056, 0.885903672276122, 0.894925141255021, 0.903895540593847, 0.9154826045990272, 0.9236028061896756, 0.9064288758769692, 0.8872691589572689, 0.8864081256982268, 0.8970812219676045, 0.9086069853050049]}],\n",
              "                        {\"height\": 600, \"showlegend\": false, \"template\": {\"data\": {\"bar\": [{\"error_x\": {\"color\": \"#2a3f5f\"}, \"error_y\": {\"color\": \"#2a3f5f\"}, \"marker\": {\"line\": {\"color\": \"#E5ECF6\", \"width\": 0.5}}, \"type\": \"bar\"}], \"barpolar\": [{\"marker\": {\"line\": {\"color\": \"#E5ECF6\", \"width\": 0.5}}, \"type\": \"barpolar\"}], \"carpet\": [{\"aaxis\": {\"endlinecolor\": \"#2a3f5f\", \"gridcolor\": \"white\", \"linecolor\": \"white\", \"minorgridcolor\": \"white\", \"startlinecolor\": \"#2a3f5f\"}, \"baxis\": {\"endlinecolor\": \"#2a3f5f\", \"gridcolor\": \"white\", \"linecolor\": \"white\", \"minorgridcolor\": \"white\", \"startlinecolor\": \"#2a3f5f\"}, \"type\": \"carpet\"}], \"choropleth\": [{\"colorbar\": {\"outlinewidth\": 0, \"ticks\": \"\"}, \"type\": \"choropleth\"}], \"contour\": [{\"colorbar\": {\"outlinewidth\": 0, \"ticks\": \"\"}, \"colorscale\": [[0.0, \"#0d0887\"], [0.1111111111111111, \"#46039f\"], [0.2222222222222222, \"#7201a8\"], [0.3333333333333333, \"#9c179e\"], [0.4444444444444444, \"#bd3786\"], [0.5555555555555556, \"#d8576b\"], [0.6666666666666666, \"#ed7953\"], [0.7777777777777778, \"#fb9f3a\"], [0.8888888888888888, \"#fdca26\"], [1.0, \"#f0f921\"]], \"type\": \"contour\"}], \"contourcarpet\": [{\"colorbar\": {\"outlinewidth\": 0, \"ticks\": \"\"}, \"type\": \"contourcarpet\"}], \"heatmap\": [{\"colorbar\": {\"outlinewidth\": 0, \"ticks\": \"\"}, \"colorscale\": [[0.0, \"#0d0887\"], [0.1111111111111111, \"#46039f\"], [0.2222222222222222, \"#7201a8\"], [0.3333333333333333, \"#9c179e\"], [0.4444444444444444, \"#bd3786\"], [0.5555555555555556, \"#d8576b\"], [0.6666666666666666, \"#ed7953\"], [0.7777777777777778, \"#fb9f3a\"], [0.8888888888888888, \"#fdca26\"], [1.0, \"#f0f921\"]], \"type\": \"heatmap\"}], \"heatmapgl\": [{\"colorbar\": {\"outlinewidth\": 0, \"ticks\": \"\"}, \"colorscale\": [[0.0, \"#0d0887\"], [0.1111111111111111, \"#46039f\"], [0.2222222222222222, \"#7201a8\"], [0.3333333333333333, \"#9c179e\"], [0.4444444444444444, \"#bd3786\"], [0.5555555555555556, \"#d8576b\"], [0.6666666666666666, \"#ed7953\"], [0.7777777777777778, \"#fb9f3a\"], [0.8888888888888888, \"#fdca26\"], [1.0, \"#f0f921\"]], \"type\": \"heatmapgl\"}], \"histogram\": [{\"marker\": {\"colorbar\": {\"outlinewidth\": 0, \"ticks\": \"\"}}, \"type\": \"histogram\"}], \"histogram2d\": [{\"colorbar\": {\"outlinewidth\": 0, \"ticks\": \"\"}, \"colorscale\": [[0.0, \"#0d0887\"], [0.1111111111111111, \"#46039f\"], [0.2222222222222222, \"#7201a8\"], [0.3333333333333333, \"#9c179e\"], [0.4444444444444444, \"#bd3786\"], [0.5555555555555556, \"#d8576b\"], [0.6666666666666666, \"#ed7953\"], [0.7777777777777778, \"#fb9f3a\"], [0.8888888888888888, \"#fdca26\"], [1.0, \"#f0f921\"]], \"type\": \"histogram2d\"}], \"histogram2dcontour\": [{\"colorbar\": {\"outlinewidth\": 0, \"ticks\": \"\"}, \"colorscale\": [[0.0, \"#0d0887\"], [0.1111111111111111, \"#46039f\"], [0.2222222222222222, \"#7201a8\"], [0.3333333333333333, \"#9c179e\"], [0.4444444444444444, \"#bd3786\"], [0.5555555555555556, \"#d8576b\"], [0.6666666666666666, \"#ed7953\"], [0.7777777777777778, \"#fb9f3a\"], [0.8888888888888888, \"#fdca26\"], [1.0, \"#f0f921\"]], \"type\": \"histogram2dcontour\"}], \"mesh3d\": [{\"colorbar\": {\"outlinewidth\": 0, \"ticks\": \"\"}, \"type\": \"mesh3d\"}], \"parcoords\": [{\"line\": {\"colorbar\": {\"outlinewidth\": 0, \"ticks\": \"\"}}, \"type\": \"parcoords\"}], \"pie\": [{\"automargin\": true, \"type\": \"pie\"}], \"scatter\": [{\"marker\": {\"colorbar\": {\"outlinewidth\": 0, \"ticks\": \"\"}}, \"type\": \"scatter\"}], \"scatter3d\": [{\"line\": {\"colorbar\": {\"outlinewidth\": 0, \"ticks\": \"\"}}, \"marker\": {\"colorbar\": {\"outlinewidth\": 0, \"ticks\": \"\"}}, \"type\": \"scatter3d\"}], \"scattercarpet\": [{\"marker\": {\"colorbar\": {\"outlinewidth\": 0, \"ticks\": \"\"}}, \"type\": \"scattercarpet\"}], \"scattergeo\": [{\"marker\": {\"colorbar\": {\"outlinewidth\": 0, \"ticks\": \"\"}}, \"type\": \"scattergeo\"}], \"scattergl\": [{\"marker\": {\"colorbar\": {\"outlinewidth\": 0, \"ticks\": \"\"}}, \"type\": \"scattergl\"}], \"scattermapbox\": [{\"marker\": {\"colorbar\": {\"outlinewidth\": 0, \"ticks\": \"\"}}, \"type\": \"scattermapbox\"}], \"scatterpolar\": [{\"marker\": {\"colorbar\": {\"outlinewidth\": 0, \"ticks\": \"\"}}, \"type\": \"scatterpolar\"}], \"scatterpolargl\": [{\"marker\": {\"colorbar\": {\"outlinewidth\": 0, \"ticks\": \"\"}}, \"type\": \"scatterpolargl\"}], \"scatterternary\": [{\"marker\": {\"colorbar\": {\"outlinewidth\": 0, \"ticks\": \"\"}}, \"type\": \"scatterternary\"}], \"surface\": [{\"colorbar\": {\"outlinewidth\": 0, \"ticks\": \"\"}, \"colorscale\": [[0.0, \"#0d0887\"], [0.1111111111111111, \"#46039f\"], [0.2222222222222222, \"#7201a8\"], [0.3333333333333333, \"#9c179e\"], [0.4444444444444444, \"#bd3786\"], [0.5555555555555556, \"#d8576b\"], [0.6666666666666666, \"#ed7953\"], [0.7777777777777778, \"#fb9f3a\"], [0.8888888888888888, \"#fdca26\"], [1.0, \"#f0f921\"]], \"type\": \"surface\"}], \"table\": [{\"cells\": {\"fill\": {\"color\": \"#EBF0F8\"}, \"line\": {\"color\": \"white\"}}, \"header\": {\"fill\": {\"color\": \"#C8D4E3\"}, \"line\": {\"color\": \"white\"}}, \"type\": \"table\"}]}, \"layout\": {\"annotationdefaults\": {\"arrowcolor\": \"#2a3f5f\", \"arrowhead\": 0, \"arrowwidth\": 1}, \"coloraxis\": {\"colorbar\": {\"outlinewidth\": 0, \"ticks\": \"\"}}, \"colorscale\": {\"diverging\": [[0, \"#8e0152\"], [0.1, \"#c51b7d\"], [0.2, \"#de77ae\"], [0.3, \"#f1b6da\"], [0.4, \"#fde0ef\"], [0.5, \"#f7f7f7\"], [0.6, \"#e6f5d0\"], [0.7, \"#b8e186\"], [0.8, \"#7fbc41\"], [0.9, \"#4d9221\"], [1, \"#276419\"]], \"sequential\": [[0.0, \"#0d0887\"], [0.1111111111111111, \"#46039f\"], [0.2222222222222222, \"#7201a8\"], [0.3333333333333333, \"#9c179e\"], [0.4444444444444444, \"#bd3786\"], [0.5555555555555556, \"#d8576b\"], [0.6666666666666666, \"#ed7953\"], [0.7777777777777778, \"#fb9f3a\"], [0.8888888888888888, \"#fdca26\"], [1.0, \"#f0f921\"]], \"sequentialminus\": [[0.0, \"#0d0887\"], [0.1111111111111111, \"#46039f\"], [0.2222222222222222, \"#7201a8\"], [0.3333333333333333, \"#9c179e\"], [0.4444444444444444, \"#bd3786\"], [0.5555555555555556, \"#d8576b\"], [0.6666666666666666, \"#ed7953\"], [0.7777777777777778, \"#fb9f3a\"], [0.8888888888888888, \"#fdca26\"], [1.0, \"#f0f921\"]]}, \"colorway\": [\"#636efa\", \"#EF553B\", \"#00cc96\", \"#ab63fa\", \"#FFA15A\", \"#19d3f3\", \"#FF6692\", \"#B6E880\", \"#FF97FF\", \"#FECB52\"], \"font\": {\"color\": \"#2a3f5f\"}, \"geo\": {\"bgcolor\": \"white\", \"lakecolor\": \"white\", \"landcolor\": \"#E5ECF6\", \"showlakes\": true, \"showland\": true, \"subunitcolor\": \"white\"}, \"hoverlabel\": {\"align\": \"left\"}, \"hovermode\": \"closest\", \"mapbox\": {\"style\": \"light\"}, \"paper_bgcolor\": \"white\", \"plot_bgcolor\": \"#E5ECF6\", \"polar\": {\"angularaxis\": {\"gridcolor\": \"white\", \"linecolor\": \"white\", \"ticks\": \"\"}, \"bgcolor\": \"#E5ECF6\", \"radialaxis\": {\"gridcolor\": \"white\", \"linecolor\": \"white\", \"ticks\": \"\"}}, \"scene\": {\"xaxis\": {\"backgroundcolor\": \"#E5ECF6\", \"gridcolor\": \"white\", \"gridwidth\": 2, \"linecolor\": \"white\", \"showbackground\": true, \"ticks\": \"\", \"zerolinecolor\": \"white\"}, \"yaxis\": {\"backgroundcolor\": \"#E5ECF6\", \"gridcolor\": \"white\", \"gridwidth\": 2, \"linecolor\": \"white\", \"showbackground\": true, \"ticks\": \"\", \"zerolinecolor\": \"white\"}, \"zaxis\": {\"backgroundcolor\": \"#E5ECF6\", \"gridcolor\": \"white\", \"gridwidth\": 2, \"linecolor\": \"white\", \"showbackground\": true, \"ticks\": \"\", \"zerolinecolor\": \"white\"}}, \"shapedefaults\": {\"line\": {\"color\": \"#2a3f5f\"}}, \"ternary\": {\"aaxis\": {\"gridcolor\": \"white\", \"linecolor\": \"white\", \"ticks\": \"\"}, \"baxis\": {\"gridcolor\": \"white\", \"linecolor\": \"white\", \"ticks\": \"\"}, \"bgcolor\": \"#E5ECF6\", \"caxis\": {\"gridcolor\": \"white\", \"linecolor\": \"white\", \"ticks\": \"\"}}, \"title\": {\"x\": 0.05}, \"xaxis\": {\"automargin\": true, \"gridcolor\": \"white\", \"linecolor\": \"white\", \"ticks\": \"\", \"title\": {\"standoff\": 15}, \"zerolinecolor\": \"white\", \"zerolinewidth\": 2}, \"yaxis\": {\"automargin\": true, \"gridcolor\": \"white\", \"linecolor\": \"white\", \"ticks\": \"\", \"title\": {\"standoff\": 15}, \"zerolinecolor\": \"white\", \"zerolinewidth\": 2}}}, \"width\": 900, \"xaxis\": {\"rangeselector\": {\"buttons\": [{\"count\": 7, \"label\": \"1w\", \"step\": \"day\", \"stepmode\": \"backward\"}, {\"count\": 1, \"label\": \"1m\", \"step\": \"month\", \"stepmode\": \"backward\"}, {\"count\": 6, \"label\": \"6m\", \"step\": \"month\", \"stepmode\": \"backward\"}, {\"count\": 1, \"label\": \"1y\", \"step\": \"year\", \"stepmode\": \"backward\"}, {\"step\": \"all\"}]}, \"rangeslider\": {\"visible\": true}, \"title\": {\"text\": \"ds\"}, \"type\": \"date\"}, \"yaxis\": {\"title\": {\"text\": \"y\"}}},\n",
              "                        {\"responsive\": true}\n",
              "                    ).then(function(){\n",
              "                            \n",
              "var gd = document.getElementById('da5c51d1-5310-448c-a872-af9133c99297');\n",
              "var x = new MutationObserver(function (mutations, observer) {{\n",
              "        var display = window.getComputedStyle(gd).display;\n",
              "        if (!display || display === 'none') {{\n",
              "            console.log([gd, 'removed!']);\n",
              "            Plotly.purge(gd);\n",
              "            observer.disconnect();\n",
              "        }}\n",
              "}});\n",
              "\n",
              "// Listen for the removal of the full notebook cells\n",
              "var notebookContainer = gd.closest('#notebook-container');\n",
              "if (notebookContainer) {{\n",
              "    x.observe(notebookContainer, {childList: true});\n",
              "}}\n",
              "\n",
              "// Listen for the clearing of the current output cell\n",
              "var outputEl = gd.closest('.output');\n",
              "if (outputEl) {{\n",
              "    x.observe(outputEl, {childList: true});\n",
              "}}\n",
              "\n",
              "                        })\n",
              "                };\n",
              "                \n",
              "            </script>\n",
              "        </div>\n",
              "</body>\n",
              "</html>"
            ]
          },
          "metadata": {
            "tags": []
          }
        }
      ]
    },
    {
      "cell_type": "code",
      "metadata": {
        "id": "g1a4xqqKsk0x"
      },
      "source": [
        "result = val.copy()\n",
        "result.rename(columns={'net_rate':'actual'},inplace=True)\n",
        "result['forecast'] = forecast1['yhat'][-len(val):].reset_index(drop=True)\n",
        "result.set_index('date',inplace=True)\n",
        "result.index = to_datetime(result.index)"
      ],
      "execution_count": null,
      "outputs": []
    },
    {
      "cell_type": "code",
      "metadata": {
        "colab": {
          "base_uri": "https://localhost:8080/",
          "height": 235
        },
        "id": "Cy6r4IRutLnl",
        "outputId": "8bcb2cc3-da61-4a3e-e0f2-bb79faf6daa2"
      },
      "source": [
        "# Metrics\n",
        "forecast = result.copy()\n",
        "# root mean squared error\n",
        "mse = mean_squared_error(forecast['forecast'], forecast['actual'])\n",
        "rmse = sqrt(mse)\n",
        "\n",
        "# mean absolute percent error\n",
        "mape = MAPE(forecast['forecast'], forecast['actual'])\n",
        "\n",
        "# mean absolute error\n",
        "mae = mean_absolute_error(forecast['forecast'], forecast['actual'])\n",
        "\n",
        "# mean squared error\n",
        "mse = mean_squared_error(forecast['forecast'], forecast['actual'])\n",
        "\n",
        "# median absolute error\n",
        "MDAE = np.median(abs(forecast['forecast']-forecast['actual']))\n",
        "\n",
        "# median absolute percent error\n",
        "MDAPE = np.median((np.abs(np.subtract(forecast['forecast'], forecast['actual'])/ forecast['actual']))) * 100\n",
        "\n",
        "index=['mse','rmse','mae','mape','mdae','mdape']\n",
        "metrics = pd.DataFrame([mse,rmse,mae,mape,MDAE,MDAPE],columns={'metrics'})\n",
        "metrics.index = index\n",
        "metrics"
      ],
      "execution_count": null,
      "outputs": [
        {
          "output_type": "execute_result",
          "data": {
            "text/html": [
              "<div>\n",
              "<style scoped>\n",
              "    .dataframe tbody tr th:only-of-type {\n",
              "        vertical-align: middle;\n",
              "    }\n",
              "\n",
              "    .dataframe tbody tr th {\n",
              "        vertical-align: top;\n",
              "    }\n",
              "\n",
              "    .dataframe thead th {\n",
              "        text-align: right;\n",
              "    }\n",
              "</style>\n",
              "<table border=\"1\" class=\"dataframe\">\n",
              "  <thead>\n",
              "    <tr style=\"text-align: right;\">\n",
              "      <th></th>\n",
              "      <th>metrics</th>\n",
              "    </tr>\n",
              "  </thead>\n",
              "  <tbody>\n",
              "    <tr>\n",
              "      <th>mse</th>\n",
              "      <td>0.002311</td>\n",
              "    </tr>\n",
              "    <tr>\n",
              "      <th>rmse</th>\n",
              "      <td>0.048075</td>\n",
              "    </tr>\n",
              "    <tr>\n",
              "      <th>mae</th>\n",
              "      <td>0.030399</td>\n",
              "    </tr>\n",
              "    <tr>\n",
              "      <th>mape</th>\n",
              "      <td>3.569195</td>\n",
              "    </tr>\n",
              "    <tr>\n",
              "      <th>mdae</th>\n",
              "      <td>0.019179</td>\n",
              "    </tr>\n",
              "    <tr>\n",
              "      <th>mdape</th>\n",
              "      <td>2.213200</td>\n",
              "    </tr>\n",
              "  </tbody>\n",
              "</table>\n",
              "</div>"
            ],
            "text/plain": [
              "        metrics\n",
              "mse    0.002311\n",
              "rmse   0.048075\n",
              "mae    0.030399\n",
              "mape   3.569195\n",
              "mdae   0.019179\n",
              "mdape  2.213200"
            ]
          },
          "metadata": {
            "tags": []
          },
          "execution_count": 36
        }
      ]
    },
    {
      "cell_type": "code",
      "metadata": {
        "colab": {
          "base_uri": "https://localhost:8080/",
          "height": 516
        },
        "id": "o70nsbiCuhlX",
        "outputId": "948a3417-2eb6-4bf5-b9c8-1556e4145d2e"
      },
      "source": [
        "# Plot Data\n",
        "plt.style.use('fivethirtyeight')\n",
        "%matplotlib inline\n",
        "\n",
        "plt.rcParams['axes.unicode_minus']=False\n",
        "plt.rcParams['figure.figsize'] = (15.0, 8) # set the size of figure\n",
        "plt.subplot(facecolor = \"whitesmoke\") # set the background color\n",
        "plt.plot(forecast['actual'],label = 'net_rate',color=\"steelblue\", linestyle=\"-\", linewidth=2.0) # plot with set the line width,shape and color\n",
        "plt.plot(forecast['forecast'], label = 'Prediction', color=\"Red\", linewidth=2.0)\n",
        "plt.legend()\n",
        "\n",
        "plt.xlabel(\"Time\")\n",
        "plt.ylabel(\"net_rate\")\n",
        "plt.title(\"net_rate\", fontsize = 20)\n",
        "plt.grid(color=\"k\", linestyle=\":\") # set grid and line shape\n",
        "\n",
        "# plt.savefig('Daily cases.png')\n",
        "plt.show()"
      ],
      "execution_count": null,
      "outputs": [
        {
          "output_type": "display_data",
          "data": {
            "image/png": "[encoded data removed]",
            "text/plain": [
              "<Figure size 1080x576 with 1 Axes>"
            ]
          },
          "metadata": {
            "tags": [],
            "needs_background": "light"
          }
        }
      ]
    },
    {
      "cell_type": "markdown",
      "metadata": {
        "id": "KgLlUq63T3Dv"
      },
      "source": [
        "## Multivariable Data Processing"
      ]
    },
    {
      "cell_type": "code",
      "metadata": {
        "colab": {
          "base_uri": "https://localhost:8080/"
        },
        "id": "9oVqlKeNhqVU",
        "outputId": "0a6adf01-4b19-4463-da8b-f75f41cdd809"
      },
      "source": [
        "# feature engineering\n",
        "# log return: assume that prices are distributed log normally\n",
        "eng = train.copy()\n",
        "eng = eng.append(val).reset_index(drop=True)\n",
        "print(eng.tail())\n",
        "print('total len:', len(eng))\n",
        "print('train len:', len(train))\n",
        "print('val len:', len(val))\n",
        "# log = np.log(1+train[\"net_rate\"])\n",
        "# eng['log_netrate'] = log\n",
        "# eng.head()\n",
        "# https://quantivity.wordpress.com/2011/02/21/why-log-returns/"
      ],
      "execution_count": 47,
      "outputs": [
        {
          "output_type": "stream",
          "text": [
            "           date  net_rate\n",
            "367  2021-07-03  0.857004\n",
            "368  2021-07-04  0.849715\n",
            "369  2021-07-05  0.850116\n",
            "370  2021-07-06  0.851735\n",
            "371  2021-07-07  0.666483\n",
            "total len: 372\n",
            "train len: 342\n",
            "val len: 30\n"
          ],
          "name": "stdout"
        }
      ]
    },
    {
      "cell_type": "code",
      "metadata": {
        "id": "tZ5d8M-SnCck",
        "colab": {
          "base_uri": "https://localhost:8080/",
          "height": 204
        },
        "outputId": "d0ca34e3-1a35-4cf3-f11a-e3c3e414b20d"
      },
      "source": [
        "dday = []\n",
        "for i in range(len(eng)):\n",
        "    st = str(eng.date[i])\n",
        "    if st[5:7] == st[8:10]:\n",
        "        day = 1\n",
        "        dday.append(day)\n",
        "        continue\n",
        "    if st[8:10] == '15':\n",
        "        day = 1\n",
        "        dday.append(day)\n",
        "        continue\n",
        "    else:\n",
        "        day = 0\n",
        "        dday.append(day)\n",
        "\n",
        "eng['dday'] = dday\n",
        "eng.tail()"
      ],
      "execution_count": 48,
      "outputs": [
        {
          "output_type": "execute_result",
          "data": {
            "text/html": [
              "<div>\n",
              "<style scoped>\n",
              "    .dataframe tbody tr th:only-of-type {\n",
              "        vertical-align: middle;\n",
              "    }\n",
              "\n",
              "    .dataframe tbody tr th {\n",
              "        vertical-align: top;\n",
              "    }\n",
              "\n",
              "    .dataframe thead th {\n",
              "        text-align: right;\n",
              "    }\n",
              "</style>\n",
              "<table border=\"1\" class=\"dataframe\">\n",
              "  <thead>\n",
              "    <tr style=\"text-align: right;\">\n",
              "      <th></th>\n",
              "      <th>date</th>\n",
              "      <th>net_rate</th>\n",
              "      <th>dday</th>\n",
              "    </tr>\n",
              "  </thead>\n",
              "  <tbody>\n",
              "    <tr>\n",
              "      <th>367</th>\n",
              "      <td>2021-07-03</td>\n",
              "      <td>0.857004</td>\n",
              "      <td>0</td>\n",
              "    </tr>\n",
              "    <tr>\n",
              "      <th>368</th>\n",
              "      <td>2021-07-04</td>\n",
              "      <td>0.849715</td>\n",
              "      <td>0</td>\n",
              "    </tr>\n",
              "    <tr>\n",
              "      <th>369</th>\n",
              "      <td>2021-07-05</td>\n",
              "      <td>0.850116</td>\n",
              "      <td>0</td>\n",
              "    </tr>\n",
              "    <tr>\n",
              "      <th>370</th>\n",
              "      <td>2021-07-06</td>\n",
              "      <td>0.851735</td>\n",
              "      <td>0</td>\n",
              "    </tr>\n",
              "    <tr>\n",
              "      <th>371</th>\n",
              "      <td>2021-07-07</td>\n",
              "      <td>0.666483</td>\n",
              "      <td>1</td>\n",
              "    </tr>\n",
              "  </tbody>\n",
              "</table>\n",
              "</div>"
            ],
            "text/plain": [
              "           date  net_rate  dday\n",
              "367  2021-07-03  0.857004     0\n",
              "368  2021-07-04  0.849715     0\n",
              "369  2021-07-05  0.850116     0\n",
              "370  2021-07-06  0.851735     0\n",
              "371  2021-07-07  0.666483     1"
            ]
          },
          "metadata": {
            "tags": []
          },
          "execution_count": 48
        }
      ]
    },
    {
      "cell_type": "code",
      "metadata": {
        "colab": {
          "base_uri": "https://localhost:8080/",
          "height": 204
        },
        "id": "-mD457AQpn8N",
        "outputId": "cb18be4a-1121-4bbf-f91f-1cf64b3826b8"
      },
      "source": [
        "month = []\n",
        "for i in range(len(eng)):\n",
        "    st = str(eng.date[i])\n",
        "    num_month = int(st[5:7])\n",
        "    month.append(num_month)\n",
        "\n",
        "eng['month'] = month\n",
        "eng.tail()"
      ],
      "execution_count": 49,
      "outputs": [
        {
          "output_type": "execute_result",
          "data": {
            "text/html": [
              "<div>\n",
              "<style scoped>\n",
              "    .dataframe tbody tr th:only-of-type {\n",
              "        vertical-align: middle;\n",
              "    }\n",
              "\n",
              "    .dataframe tbody tr th {\n",
              "        vertical-align: top;\n",
              "    }\n",
              "\n",
              "    .dataframe thead th {\n",
              "        text-align: right;\n",
              "    }\n",
              "</style>\n",
              "<table border=\"1\" class=\"dataframe\">\n",
              "  <thead>\n",
              "    <tr style=\"text-align: right;\">\n",
              "      <th></th>\n",
              "      <th>date</th>\n",
              "      <th>net_rate</th>\n",
              "      <th>dday</th>\n",
              "      <th>month</th>\n",
              "    </tr>\n",
              "  </thead>\n",
              "  <tbody>\n",
              "    <tr>\n",
              "      <th>367</th>\n",
              "      <td>2021-07-03</td>\n",
              "      <td>0.857004</td>\n",
              "      <td>0</td>\n",
              "      <td>7</td>\n",
              "    </tr>\n",
              "    <tr>\n",
              "      <th>368</th>\n",
              "      <td>2021-07-04</td>\n",
              "      <td>0.849715</td>\n",
              "      <td>0</td>\n",
              "      <td>7</td>\n",
              "    </tr>\n",
              "    <tr>\n",
              "      <th>369</th>\n",
              "      <td>2021-07-05</td>\n",
              "      <td>0.850116</td>\n",
              "      <td>0</td>\n",
              "      <td>7</td>\n",
              "    </tr>\n",
              "    <tr>\n",
              "      <th>370</th>\n",
              "      <td>2021-07-06</td>\n",
              "      <td>0.851735</td>\n",
              "      <td>0</td>\n",
              "      <td>7</td>\n",
              "    </tr>\n",
              "    <tr>\n",
              "      <th>371</th>\n",
              "      <td>2021-07-07</td>\n",
              "      <td>0.666483</td>\n",
              "      <td>1</td>\n",
              "      <td>7</td>\n",
              "    </tr>\n",
              "  </tbody>\n",
              "</table>\n",
              "</div>"
            ],
            "text/plain": [
              "           date  net_rate  dday  month\n",
              "367  2021-07-03  0.857004     0      7\n",
              "368  2021-07-04  0.849715     0      7\n",
              "369  2021-07-05  0.850116     0      7\n",
              "370  2021-07-06  0.851735     0      7\n",
              "371  2021-07-07  0.666483     1      7"
            ]
          },
          "metadata": {
            "tags": []
          },
          "execution_count": 49
        }
      ]
    },
    {
      "cell_type": "code",
      "metadata": {
        "colab": {
          "base_uri": "https://localhost:8080/",
          "height": 204
        },
        "id": "MRqEw8oW2KC7",
        "outputId": "46aa3f88-8da8-4ee6-ba0f-3842fe6b7c7b"
      },
      "source": [
        "season=[]\n",
        "summer = [3,4,5,6]\n",
        "rain = [7,8,9,10]\n",
        "winter = [11,12,1,2]\n",
        "\n",
        "for i in range(len(eng)):\n",
        "  st = str(eng.date[i])\n",
        "  if int(st[5:7]) in summer:\n",
        "    num_season = 0\n",
        "    season.append(num_season)\n",
        "    continue\n",
        "  if int(st[5:7]) in rain:\n",
        "    num_season = 1\n",
        "    season.append(num_season)\n",
        "    continue\n",
        "  if int(st[5:7]) in winter:\n",
        "    num_season = 2\n",
        "    season.append(num_season)\n",
        "    continue\n",
        "\n",
        "eng['season'] = season\n",
        "eng.tail()"
      ],
      "execution_count": 50,
      "outputs": [
        {
          "output_type": "execute_result",
          "data": {
            "text/html": [
              "<div>\n",
              "<style scoped>\n",
              "    .dataframe tbody tr th:only-of-type {\n",
              "        vertical-align: middle;\n",
              "    }\n",
              "\n",
              "    .dataframe tbody tr th {\n",
              "        vertical-align: top;\n",
              "    }\n",
              "\n",
              "    .dataframe thead th {\n",
              "        text-align: right;\n",
              "    }\n",
              "</style>\n",
              "<table border=\"1\" class=\"dataframe\">\n",
              "  <thead>\n",
              "    <tr style=\"text-align: right;\">\n",
              "      <th></th>\n",
              "      <th>date</th>\n",
              "      <th>net_rate</th>\n",
              "      <th>dday</th>\n",
              "      <th>month</th>\n",
              "      <th>season</th>\n",
              "    </tr>\n",
              "  </thead>\n",
              "  <tbody>\n",
              "    <tr>\n",
              "      <th>367</th>\n",
              "      <td>2021-07-03</td>\n",
              "      <td>0.857004</td>\n",
              "      <td>0</td>\n",
              "      <td>7</td>\n",
              "      <td>1</td>\n",
              "    </tr>\n",
              "    <tr>\n",
              "      <th>368</th>\n",
              "      <td>2021-07-04</td>\n",
              "      <td>0.849715</td>\n",
              "      <td>0</td>\n",
              "      <td>7</td>\n",
              "      <td>1</td>\n",
              "    </tr>\n",
              "    <tr>\n",
              "      <th>369</th>\n",
              "      <td>2021-07-05</td>\n",
              "      <td>0.850116</td>\n",
              "      <td>0</td>\n",
              "      <td>7</td>\n",
              "      <td>1</td>\n",
              "    </tr>\n",
              "    <tr>\n",
              "      <th>370</th>\n",
              "      <td>2021-07-06</td>\n",
              "      <td>0.851735</td>\n",
              "      <td>0</td>\n",
              "      <td>7</td>\n",
              "      <td>1</td>\n",
              "    </tr>\n",
              "    <tr>\n",
              "      <th>371</th>\n",
              "      <td>2021-07-07</td>\n",
              "      <td>0.666483</td>\n",
              "      <td>1</td>\n",
              "      <td>7</td>\n",
              "      <td>1</td>\n",
              "    </tr>\n",
              "  </tbody>\n",
              "</table>\n",
              "</div>"
            ],
            "text/plain": [
              "           date  net_rate  dday  month  season\n",
              "367  2021-07-03  0.857004     0      7       1\n",
              "368  2021-07-04  0.849715     0      7       1\n",
              "369  2021-07-05  0.850116     0      7       1\n",
              "370  2021-07-06  0.851735     0      7       1\n",
              "371  2021-07-07  0.666483     1      7       1"
            ]
          },
          "metadata": {
            "tags": []
          },
          "execution_count": 50
        }
      ]
    },
    {
      "cell_type": "markdown",
      "metadata": {
        "id": "f2fJ9bhcgWRc"
      },
      "source": [
        "# Multivariable Forecasting"
      ]
    },
    {
      "cell_type": "markdown",
      "metadata": {
        "id": "MRuWgQ7GIyuF"
      },
      "source": [
        "## Prophet Multivariable Forecasting"
      ]
    },
    {
      "cell_type": "code",
      "metadata": {
        "colab": {
          "base_uri": "https://localhost:8080/",
          "height": 204
        },
        "id": "kOwg1hRs7rnO",
        "outputId": "cff22be7-e79a-4b10-d603-be4c2e632602"
      },
      "source": [
        "multi_eng = eng.copy()\n",
        "multi_eng.rename(columns={'date':'ds','net_rate':'y'},inplace=True)\n",
        "multi_eng.tail()"
      ],
      "execution_count": 51,
      "outputs": [
        {
          "output_type": "execute_result",
          "data": {
            "text/html": [
              "<div>\n",
              "<style scoped>\n",
              "    .dataframe tbody tr th:only-of-type {\n",
              "        vertical-align: middle;\n",
              "    }\n",
              "\n",
              "    .dataframe tbody tr th {\n",
              "        vertical-align: top;\n",
              "    }\n",
              "\n",
              "    .dataframe thead th {\n",
              "        text-align: right;\n",
              "    }\n",
              "</style>\n",
              "<table border=\"1\" class=\"dataframe\">\n",
              "  <thead>\n",
              "    <tr style=\"text-align: right;\">\n",
              "      <th></th>\n",
              "      <th>ds</th>\n",
              "      <th>y</th>\n",
              "      <th>dday</th>\n",
              "      <th>month</th>\n",
              "      <th>season</th>\n",
              "    </tr>\n",
              "  </thead>\n",
              "  <tbody>\n",
              "    <tr>\n",
              "      <th>367</th>\n",
              "      <td>2021-07-03</td>\n",
              "      <td>0.857004</td>\n",
              "      <td>0</td>\n",
              "      <td>7</td>\n",
              "      <td>1</td>\n",
              "    </tr>\n",
              "    <tr>\n",
              "      <th>368</th>\n",
              "      <td>2021-07-04</td>\n",
              "      <td>0.849715</td>\n",
              "      <td>0</td>\n",
              "      <td>7</td>\n",
              "      <td>1</td>\n",
              "    </tr>\n",
              "    <tr>\n",
              "      <th>369</th>\n",
              "      <td>2021-07-05</td>\n",
              "      <td>0.850116</td>\n",
              "      <td>0</td>\n",
              "      <td>7</td>\n",
              "      <td>1</td>\n",
              "    </tr>\n",
              "    <tr>\n",
              "      <th>370</th>\n",
              "      <td>2021-07-06</td>\n",
              "      <td>0.851735</td>\n",
              "      <td>0</td>\n",
              "      <td>7</td>\n",
              "      <td>1</td>\n",
              "    </tr>\n",
              "    <tr>\n",
              "      <th>371</th>\n",
              "      <td>2021-07-07</td>\n",
              "      <td>0.666483</td>\n",
              "      <td>1</td>\n",
              "      <td>7</td>\n",
              "      <td>1</td>\n",
              "    </tr>\n",
              "  </tbody>\n",
              "</table>\n",
              "</div>"
            ],
            "text/plain": [
              "             ds         y  dday  month  season\n",
              "367  2021-07-03  0.857004     0      7       1\n",
              "368  2021-07-04  0.849715     0      7       1\n",
              "369  2021-07-05  0.850116     0      7       1\n",
              "370  2021-07-06  0.851735     0      7       1\n",
              "371  2021-07-07  0.666483     1      7       1"
            ]
          },
          "metadata": {
            "tags": []
          },
          "execution_count": 51
        }
      ]
    },
    {
      "cell_type": "code",
      "metadata": {
        "colab": {
          "base_uri": "https://localhost:8080/",
          "height": 204
        },
        "id": "kfZEeOgs_RtK",
        "outputId": "9438a312-3089-4983-aeb8-42ef62e6fb78"
      },
      "source": [
        "# train & test split\n",
        "multi_train = multi_eng[:-30]\n",
        "multi_val = multi_eng[-30:]\n",
        "multi_train.tail() #input train dataset"
      ],
      "execution_count": 52,
      "outputs": [
        {
          "output_type": "execute_result",
          "data": {
            "text/html": [
              "<div>\n",
              "<style scoped>\n",
              "    .dataframe tbody tr th:only-of-type {\n",
              "        vertical-align: middle;\n",
              "    }\n",
              "\n",
              "    .dataframe tbody tr th {\n",
              "        vertical-align: top;\n",
              "    }\n",
              "\n",
              "    .dataframe thead th {\n",
              "        text-align: right;\n",
              "    }\n",
              "</style>\n",
              "<table border=\"1\" class=\"dataframe\">\n",
              "  <thead>\n",
              "    <tr style=\"text-align: right;\">\n",
              "      <th></th>\n",
              "      <th>ds</th>\n",
              "      <th>y</th>\n",
              "      <th>dday</th>\n",
              "      <th>month</th>\n",
              "      <th>season</th>\n",
              "    </tr>\n",
              "  </thead>\n",
              "  <tbody>\n",
              "    <tr>\n",
              "      <th>337</th>\n",
              "      <td>2021-06-03</td>\n",
              "      <td>0.860099</td>\n",
              "      <td>0</td>\n",
              "      <td>6</td>\n",
              "      <td>0</td>\n",
              "    </tr>\n",
              "    <tr>\n",
              "      <th>338</th>\n",
              "      <td>2021-06-04</td>\n",
              "      <td>0.884038</td>\n",
              "      <td>0</td>\n",
              "      <td>6</td>\n",
              "      <td>0</td>\n",
              "    </tr>\n",
              "    <tr>\n",
              "      <th>339</th>\n",
              "      <td>2021-06-05</td>\n",
              "      <td>0.936399</td>\n",
              "      <td>0</td>\n",
              "      <td>6</td>\n",
              "      <td>0</td>\n",
              "    </tr>\n",
              "    <tr>\n",
              "      <th>340</th>\n",
              "      <td>2021-06-06</td>\n",
              "      <td>0.735210</td>\n",
              "      <td>1</td>\n",
              "      <td>6</td>\n",
              "      <td>0</td>\n",
              "    </tr>\n",
              "    <tr>\n",
              "      <th>341</th>\n",
              "      <td>2021-06-07</td>\n",
              "      <td>0.763073</td>\n",
              "      <td>0</td>\n",
              "      <td>6</td>\n",
              "      <td>0</td>\n",
              "    </tr>\n",
              "  </tbody>\n",
              "</table>\n",
              "</div>"
            ],
            "text/plain": [
              "             ds         y  dday  month  season\n",
              "337  2021-06-03  0.860099     0      6       0\n",
              "338  2021-06-04  0.884038     0      6       0\n",
              "339  2021-06-05  0.936399     0      6       0\n",
              "340  2021-06-06  0.735210     1      6       0\n",
              "341  2021-06-07  0.763073     0      6       0"
            ]
          },
          "metadata": {
            "tags": []
          },
          "execution_count": 52
        }
      ]
    },
    {
      "cell_type": "code",
      "metadata": {
        "id": "eH-rm9iX54W8"
      },
      "source": [
        "multi_model = Prophet(interval_width=0.95)"
      ],
      "execution_count": 53,
      "outputs": []
    },
    {
      "cell_type": "code",
      "metadata": {
        "colab": {
          "base_uri": "https://localhost:8080/"
        },
        "id": "f-OZrRcD_12W",
        "outputId": "be1f50d6-4a97-44dd-acd1-1a5fe3d0926a"
      },
      "source": [
        "multi_model.add_regressor('dday', standardize=False)\n",
        "multi_model.add_regressor('month', standardize=False)\n",
        "multi_model.add_regressor('season', standardize=False)"
      ],
      "execution_count": 54,
      "outputs": [
        {
          "output_type": "execute_result",
          "data": {
            "text/plain": [
              "<fbprophet.forecaster.Prophet at 0x7f1bcdc77b50>"
            ]
          },
          "metadata": {
            "tags": []
          },
          "execution_count": 54
        }
      ]
    },
    {
      "cell_type": "code",
      "metadata": {
        "colab": {
          "base_uri": "https://localhost:8080/"
        },
        "id": "eGzVN2_c_14y",
        "outputId": "6327fa2d-2815-443f-f312-cefcfb07a729"
      },
      "source": [
        "multi_model.fit(multi_train)"
      ],
      "execution_count": 55,
      "outputs": [
        {
          "output_type": "stream",
          "text": [
            "INFO:fbprophet:Disabling yearly seasonality. Run prophet with yearly_seasonality=True to override this.\n",
            "INFO:fbprophet:Disabling daily seasonality. Run prophet with daily_seasonality=True to override this.\n"
          ],
          "name": "stderr"
        },
        {
          "output_type": "execute_result",
          "data": {
            "text/plain": [
              "<fbprophet.forecaster.Prophet at 0x7f1bcdc77b50>"
            ]
          },
          "metadata": {
            "tags": []
          },
          "execution_count": 55
        }
      ]
    },
    {
      "cell_type": "code",
      "metadata": {
        "colab": {
          "base_uri": "https://localhost:8080/",
          "height": 204
        },
        "id": "U3PWLZGlAKmZ",
        "outputId": "68741cd1-59fa-41cc-ae6c-61376ce2f3c9"
      },
      "source": [
        "multi_future = multi_model.make_future_dataframe(periods=len(multi_val))\n",
        "multi_future.tail()"
      ],
      "execution_count": 56,
      "outputs": [
        {
          "output_type": "execute_result",
          "data": {
            "text/html": [
              "<div>\n",
              "<style scoped>\n",
              "    .dataframe tbody tr th:only-of-type {\n",
              "        vertical-align: middle;\n",
              "    }\n",
              "\n",
              "    .dataframe tbody tr th {\n",
              "        vertical-align: top;\n",
              "    }\n",
              "\n",
              "    .dataframe thead th {\n",
              "        text-align: right;\n",
              "    }\n",
              "</style>\n",
              "<table border=\"1\" class=\"dataframe\">\n",
              "  <thead>\n",
              "    <tr style=\"text-align: right;\">\n",
              "      <th></th>\n",
              "      <th>ds</th>\n",
              "    </tr>\n",
              "  </thead>\n",
              "  <tbody>\n",
              "    <tr>\n",
              "      <th>367</th>\n",
              "      <td>2021-07-03</td>\n",
              "    </tr>\n",
              "    <tr>\n",
              "      <th>368</th>\n",
              "      <td>2021-07-04</td>\n",
              "    </tr>\n",
              "    <tr>\n",
              "      <th>369</th>\n",
              "      <td>2021-07-05</td>\n",
              "    </tr>\n",
              "    <tr>\n",
              "      <th>370</th>\n",
              "      <td>2021-07-06</td>\n",
              "    </tr>\n",
              "    <tr>\n",
              "      <th>371</th>\n",
              "      <td>2021-07-07</td>\n",
              "    </tr>\n",
              "  </tbody>\n",
              "</table>\n",
              "</div>"
            ],
            "text/plain": [
              "            ds\n",
              "367 2021-07-03\n",
              "368 2021-07-04\n",
              "369 2021-07-05\n",
              "370 2021-07-06\n",
              "371 2021-07-07"
            ]
          },
          "metadata": {
            "tags": []
          },
          "execution_count": 56
        }
      ]
    },
    {
      "cell_type": "code",
      "metadata": {
        "colab": {
          "base_uri": "https://localhost:8080/",
          "height": 204
        },
        "id": "QrbHTRF3AhIL",
        "outputId": "aefd2eb5-514a-4dc3-ee49-6a120abc2aba"
      },
      "source": [
        "# must know future value\n",
        "multi_future['dday'] = multi_eng['dday']\n",
        "multi_future['month'] = multi_eng['month']\n",
        "multi_future['season'] = multi_eng['season']\n",
        "multi_future.tail()"
      ],
      "execution_count": 57,
      "outputs": [
        {
          "output_type": "execute_result",
          "data": {
            "text/html": [
              "<div>\n",
              "<style scoped>\n",
              "    .dataframe tbody tr th:only-of-type {\n",
              "        vertical-align: middle;\n",
              "    }\n",
              "\n",
              "    .dataframe tbody tr th {\n",
              "        vertical-align: top;\n",
              "    }\n",
              "\n",
              "    .dataframe thead th {\n",
              "        text-align: right;\n",
              "    }\n",
              "</style>\n",
              "<table border=\"1\" class=\"dataframe\">\n",
              "  <thead>\n",
              "    <tr style=\"text-align: right;\">\n",
              "      <th></th>\n",
              "      <th>ds</th>\n",
              "      <th>dday</th>\n",
              "      <th>month</th>\n",
              "      <th>season</th>\n",
              "    </tr>\n",
              "  </thead>\n",
              "  <tbody>\n",
              "    <tr>\n",
              "      <th>367</th>\n",
              "      <td>2021-07-03</td>\n",
              "      <td>0</td>\n",
              "      <td>7</td>\n",
              "      <td>1</td>\n",
              "    </tr>\n",
              "    <tr>\n",
              "      <th>368</th>\n",
              "      <td>2021-07-04</td>\n",
              "      <td>0</td>\n",
              "      <td>7</td>\n",
              "      <td>1</td>\n",
              "    </tr>\n",
              "    <tr>\n",
              "      <th>369</th>\n",
              "      <td>2021-07-05</td>\n",
              "      <td>0</td>\n",
              "      <td>7</td>\n",
              "      <td>1</td>\n",
              "    </tr>\n",
              "    <tr>\n",
              "      <th>370</th>\n",
              "      <td>2021-07-06</td>\n",
              "      <td>0</td>\n",
              "      <td>7</td>\n",
              "      <td>1</td>\n",
              "    </tr>\n",
              "    <tr>\n",
              "      <th>371</th>\n",
              "      <td>2021-07-07</td>\n",
              "      <td>1</td>\n",
              "      <td>7</td>\n",
              "      <td>1</td>\n",
              "    </tr>\n",
              "  </tbody>\n",
              "</table>\n",
              "</div>"
            ],
            "text/plain": [
              "            ds  dday  month  season\n",
              "367 2021-07-03     0      7       1\n",
              "368 2021-07-04     0      7       1\n",
              "369 2021-07-05     0      7       1\n",
              "370 2021-07-06     0      7       1\n",
              "371 2021-07-07     1      7       1"
            ]
          },
          "metadata": {
            "tags": []
          },
          "execution_count": 57
        }
      ]
    },
    {
      "cell_type": "code",
      "metadata": {
        "colab": {
          "base_uri": "https://localhost:8080/",
          "height": 204
        },
        "id": "IK1xujIaBGzv",
        "outputId": "e16bd4f5-7d66-471b-fa2a-e10120fd9231"
      },
      "source": [
        "multi_forecast = multi_model.predict(multi_future)\n",
        "multi_forecast[['ds','yhat','yhat_lower','yhat_upper']].tail()"
      ],
      "execution_count": 58,
      "outputs": [
        {
          "output_type": "execute_result",
          "data": {
            "text/html": [
              "<div>\n",
              "<style scoped>\n",
              "    .dataframe tbody tr th:only-of-type {\n",
              "        vertical-align: middle;\n",
              "    }\n",
              "\n",
              "    .dataframe tbody tr th {\n",
              "        vertical-align: top;\n",
              "    }\n",
              "\n",
              "    .dataframe thead th {\n",
              "        text-align: right;\n",
              "    }\n",
              "</style>\n",
              "<table border=\"1\" class=\"dataframe\">\n",
              "  <thead>\n",
              "    <tr style=\"text-align: right;\">\n",
              "      <th></th>\n",
              "      <th>ds</th>\n",
              "      <th>yhat</th>\n",
              "      <th>yhat_lower</th>\n",
              "      <th>yhat_upper</th>\n",
              "    </tr>\n",
              "  </thead>\n",
              "  <tbody>\n",
              "    <tr>\n",
              "      <th>367</th>\n",
              "      <td>2021-07-03</td>\n",
              "      <td>0.850732</td>\n",
              "      <td>0.781864</td>\n",
              "      <td>0.922224</td>\n",
              "    </tr>\n",
              "    <tr>\n",
              "      <th>368</th>\n",
              "      <td>2021-07-04</td>\n",
              "      <td>0.831767</td>\n",
              "      <td>0.767698</td>\n",
              "      <td>0.900781</td>\n",
              "    </tr>\n",
              "    <tr>\n",
              "      <th>369</th>\n",
              "      <td>2021-07-05</td>\n",
              "      <td>0.827693</td>\n",
              "      <td>0.756763</td>\n",
              "      <td>0.895447</td>\n",
              "    </tr>\n",
              "    <tr>\n",
              "      <th>370</th>\n",
              "      <td>2021-07-06</td>\n",
              "      <td>0.841296</td>\n",
              "      <td>0.770095</td>\n",
              "      <td>0.917236</td>\n",
              "    </tr>\n",
              "    <tr>\n",
              "      <th>371</th>\n",
              "      <td>2021-07-07</td>\n",
              "      <td>0.780843</td>\n",
              "      <td>0.713384</td>\n",
              "      <td>0.847286</td>\n",
              "    </tr>\n",
              "  </tbody>\n",
              "</table>\n",
              "</div>"
            ],
            "text/plain": [
              "            ds      yhat  yhat_lower  yhat_upper\n",
              "367 2021-07-03  0.850732    0.781864    0.922224\n",
              "368 2021-07-04  0.831767    0.767698    0.900781\n",
              "369 2021-07-05  0.827693    0.756763    0.895447\n",
              "370 2021-07-06  0.841296    0.770095    0.917236\n",
              "371 2021-07-07  0.780843    0.713384    0.847286"
            ]
          },
          "metadata": {
            "tags": []
          },
          "execution_count": 58
        }
      ]
    },
    {
      "cell_type": "code",
      "metadata": {
        "colab": {
          "base_uri": "https://localhost:8080/",
          "height": 441
        },
        "id": "nDpHSJaFBuz7",
        "outputId": "ba435f38-97da-4ec3-d030-00f0d6f1b283"
      },
      "source": [
        "multi_fig = multi_model.plot(multi_forecast)"
      ],
      "execution_count": 59,
      "outputs": [
        {
          "output_type": "display_data",
          "data": {
            "image/png": "[encoded data removed]",
            "text/plain": [
              "<Figure size 720x432 with 1 Axes>"
            ]
          },
          "metadata": {
            "tags": []
          }
        }
      ]
    },
    {
      "cell_type": "code",
      "metadata": {
        "colab": {
          "base_uri": "https://localhost:8080/",
          "height": 235
        },
        "id": "oy31KbJwB-bx",
        "outputId": "0c716239-f9e3-446f-d8c7-607aa12f3916"
      },
      "source": [
        "forecast = multi_forecast[['ds','yhat']][-30:].reset_index(drop=True)\n",
        "forecast.rename(columns={'yhat':'forecast'}, inplace=True)\n",
        "forecast['actual'] = val['net_rate']\n",
        "forecast.set_index('ds',inplace=True)\n",
        "forecast.tail()"
      ],
      "execution_count": 60,
      "outputs": [
        {
          "output_type": "execute_result",
          "data": {
            "text/html": [
              "<div>\n",
              "<style scoped>\n",
              "    .dataframe tbody tr th:only-of-type {\n",
              "        vertical-align: middle;\n",
              "    }\n",
              "\n",
              "    .dataframe tbody tr th {\n",
              "        vertical-align: top;\n",
              "    }\n",
              "\n",
              "    .dataframe thead th {\n",
              "        text-align: right;\n",
              "    }\n",
              "</style>\n",
              "<table border=\"1\" class=\"dataframe\">\n",
              "  <thead>\n",
              "    <tr style=\"text-align: right;\">\n",
              "      <th></th>\n",
              "      <th>forecast</th>\n",
              "      <th>actual</th>\n",
              "    </tr>\n",
              "    <tr>\n",
              "      <th>ds</th>\n",
              "      <th></th>\n",
              "      <th></th>\n",
              "    </tr>\n",
              "  </thead>\n",
              "  <tbody>\n",
              "    <tr>\n",
              "      <th>2021-07-03</th>\n",
              "      <td>0.850732</td>\n",
              "      <td>0.857004</td>\n",
              "    </tr>\n",
              "    <tr>\n",
              "      <th>2021-07-04</th>\n",
              "      <td>0.831767</td>\n",
              "      <td>0.849715</td>\n",
              "    </tr>\n",
              "    <tr>\n",
              "      <th>2021-07-05</th>\n",
              "      <td>0.827693</td>\n",
              "      <td>0.850116</td>\n",
              "    </tr>\n",
              "    <tr>\n",
              "      <th>2021-07-06</th>\n",
              "      <td>0.841296</td>\n",
              "      <td>0.851735</td>\n",
              "    </tr>\n",
              "    <tr>\n",
              "      <th>2021-07-07</th>\n",
              "      <td>0.780843</td>\n",
              "      <td>0.666483</td>\n",
              "    </tr>\n",
              "  </tbody>\n",
              "</table>\n",
              "</div>"
            ],
            "text/plain": [
              "            forecast    actual\n",
              "ds                            \n",
              "2021-07-03  0.850732  0.857004\n",
              "2021-07-04  0.831767  0.849715\n",
              "2021-07-05  0.827693  0.850116\n",
              "2021-07-06  0.841296  0.851735\n",
              "2021-07-07  0.780843  0.666483"
            ]
          },
          "metadata": {
            "tags": []
          },
          "execution_count": 60
        }
      ]
    },
    {
      "cell_type": "code",
      "metadata": {
        "colab": {
          "base_uri": "https://localhost:8080/",
          "height": 235
        },
        "id": "bclb7905DVvp",
        "outputId": "21b036d8-9a9c-48ac-d619-5e75a6a347f8"
      },
      "source": [
        "# root mean squared error\n",
        "mse = mean_squared_error(forecast['forecast'], forecast['actual'])\n",
        "rmse = sqrt(mse)\n",
        "\n",
        "# mean absolute percent error\n",
        "mape = MAPE(forecast['forecast'], forecast['actual'])\n",
        "\n",
        "# mean absolute error\n",
        "mae = mean_absolute_error(forecast['forecast'], forecast['actual'])\n",
        "\n",
        "# mean squared error\n",
        "mse = mean_squared_error(forecast['forecast'], forecast['actual'])\n",
        "\n",
        "# median absolute error\n",
        "MDAE = np.median(abs(forecast['forecast']-forecast['actual']))\n",
        "\n",
        "# median absolute percent error\n",
        "MDAPE = np.median((np.abs(np.subtract(forecast['forecast'], forecast['actual'])/ forecast['actual']))) * 100\n",
        "\n",
        "index=['mse','rmse','mae','mape','mdae','mdape']\n",
        "metrics = pd.DataFrame([mse,rmse,mae,mape,MDAE,MDAPE],columns={'metrics'})\n",
        "metrics.index = index\n",
        "metrics"
      ],
      "execution_count": 61,
      "outputs": [
        {
          "output_type": "execute_result",
          "data": {
            "text/html": [
              "<div>\n",
              "<style scoped>\n",
              "    .dataframe tbody tr th:only-of-type {\n",
              "        vertical-align: middle;\n",
              "    }\n",
              "\n",
              "    .dataframe tbody tr th {\n",
              "        vertical-align: top;\n",
              "    }\n",
              "\n",
              "    .dataframe thead th {\n",
              "        text-align: right;\n",
              "    }\n",
              "</style>\n",
              "<table border=\"1\" class=\"dataframe\">\n",
              "  <thead>\n",
              "    <tr style=\"text-align: right;\">\n",
              "      <th></th>\n",
              "      <th>metrics</th>\n",
              "    </tr>\n",
              "  </thead>\n",
              "  <tbody>\n",
              "    <tr>\n",
              "      <th>mse</th>\n",
              "      <td>0.001357</td>\n",
              "    </tr>\n",
              "    <tr>\n",
              "      <th>rmse</th>\n",
              "      <td>0.036842</td>\n",
              "    </tr>\n",
              "    <tr>\n",
              "      <th>mae</th>\n",
              "      <td>0.025413</td>\n",
              "    </tr>\n",
              "    <tr>\n",
              "      <th>mape</th>\n",
              "      <td>3.028364</td>\n",
              "    </tr>\n",
              "    <tr>\n",
              "      <th>mdae</th>\n",
              "      <td>0.018230</td>\n",
              "    </tr>\n",
              "    <tr>\n",
              "      <th>mdape</th>\n",
              "      <td>2.147152</td>\n",
              "    </tr>\n",
              "  </tbody>\n",
              "</table>\n",
              "</div>"
            ],
            "text/plain": [
              "        metrics\n",
              "mse    0.001357\n",
              "rmse   0.036842\n",
              "mae    0.025413\n",
              "mape   3.028364\n",
              "mdae   0.018230\n",
              "mdape  2.147152"
            ]
          },
          "metadata": {
            "tags": []
          },
          "execution_count": 61
        }
      ]
    },
    {
      "cell_type": "code",
      "metadata": {
        "colab": {
          "base_uri": "https://localhost:8080/",
          "height": 436
        },
        "id": "rwE2hrvpD7jP",
        "outputId": "a3a97033-9345-4d27-f915-b501e7ac0daa"
      },
      "source": [
        "# Plot Data\n",
        "plt.style.use('fivethirtyeight')\n",
        "%matplotlib inline\n",
        "\n",
        "plt.rcParams['axes.unicode_minus']=False\n",
        "plt.rcParams['figure.figsize'] = (15.0, 8) # set the size of figure\n",
        "plt.subplot(facecolor = \"whitesmoke\") # set the background color\n",
        "plt.plot(forecast['actual'],label = 'net_rate',color=\"steelblue\", linestyle=\"-\", linewidth=2.0) # plot with set the line width,shape and color\n",
        "plt.plot(forecast['forecast'], label = 'Prediction', color=\"Red\", linewidth=2.0)\n",
        "plt.legend()\n",
        "\n",
        "plt.xlabel(\"Time\")\n",
        "plt.ylabel(\"net_rate\")\n",
        "plt.title(\"net_rate\", fontsize = 20)\n",
        "plt.grid(color=\"k\", linestyle=\":\") # set grid and line shape\n",
        "\n",
        "# plt.savefig('Daily cases.png')\n",
        "plt.show()"
      ],
      "execution_count": 62,
      "outputs": [
        {
          "output_type": "display_data",
          "data": {
            "image/png": "[encoded data removed]",
            "text/plain": [
              "<Figure size 1080x576 with 1 Axes>"
            ]
          },
          "metadata": {
            "tags": [],
            "needs_background": "light"
          }
        }
      ]
    },
    {
      "cell_type": "code",
      "metadata": {
        "colab": {
          "base_uri": "https://localhost:8080/",
          "height": 657
        },
        "id": "02VOx0rsZ-DK",
        "outputId": "ef2c9413-dc6e-4df9-88fe-8d50a27d5ab8"
      },
      "source": [
        "fig2 = multi_model.plot_components(multi_forecast)"
      ],
      "execution_count": 63,
      "outputs": [
        {
          "output_type": "display_data",
          "data": {
            "image/png": "[encoded data removed]",
            "text/plain": [
              "<Figure size 648x648 with 3 Axes>"
            ]
          },
          "metadata": {
            "tags": []
          }
        }
      ]
    },
    {
      "cell_type": "code",
      "metadata": {
        "colab": {
          "base_uri": "https://localhost:8080/",
          "height": 154,
          "referenced_widgets": [
            "55e7c60eaf664a0f93f7636a0160f4fd",
            "297e67efa5d544349705be1a941cc17e",
            "faf6692cab7d454e8388472ad734a471",
            "c462f51fbab443e3b04151bd0596cf09",
            "a6d19000f889424687d35775309e1d15",
            "7be7de2cf6994521a2785a0fb7f4ffee",
            "f4e2709cbe964ce194cf70f841af09d0",
            "9ce5f00d8ddd46ababe8f308880df168"
          ]
        },
        "id": "-6U1Nc9da6Ym",
        "outputId": "7c0003c7-ee08-437c-e0d6-be15ae93797c"
      },
      "source": [
        "from fbprophet.diagnostics import cross_validation, performance_metrics\n",
        "# init = str(len(multi_train))+' days' # 341 days\n",
        "init = 340 # decrease 1 day\n",
        "hori = str(len(multi_val))+' days'\n",
        "cv = cross_validation(model = multi_model, initial = init, horizon = hori)"
      ],
      "execution_count": 75,
      "outputs": [
        {
          "output_type": "stream",
          "text": [
            "INFO:fbprophet:Making 21 forecasts with cutoffs between 2020-07-12 00:00:00 and 2021-05-08 00:00:00\n",
            "WARNING:fbprophet:Seasonality has period of 7 days which is larger than initial window. Consider increasing initial.\n"
          ],
          "name": "stderr"
        },
        {
          "output_type": "display_data",
          "data": {
            "application/vnd.jupyter.widget-view+json": {
              "model_id": "55e7c60eaf664a0f93f7636a0160f4fd",
              "version_minor": 0,
              "version_major": 2
            },
            "text/plain": [
              "HBox(children=(FloatProgress(value=0.0, max=21.0), HTML(value='')))"
            ]
          },
          "metadata": {
            "tags": []
          }
        },
        {
          "output_type": "stream",
          "text": [
            "INFO:fbprophet:n_changepoints greater than number of observations. Using 8.\n",
            "INFO:fbprophet:n_changepoints greater than number of observations. Using 20.\n"
          ],
          "name": "stderr"
        },
        {
          "output_type": "stream",
          "text": [
            "\n"
          ],
          "name": "stdout"
        }
      ]
    },
    {
      "cell_type": "code",
      "metadata": {
        "colab": {
          "base_uri": "https://localhost:8080/",
          "height": 917
        },
        "id": "YoqTycxpbcd7",
        "outputId": "c0f5996e-3eae-47a7-de43-40097772d566"
      },
      "source": [
        "performance_metrics(cv)"
      ],
      "execution_count": 76,
      "outputs": [
        {
          "output_type": "execute_result",
          "data": {
            "text/html": [
              "<div>\n",
              "<style scoped>\n",
              "    .dataframe tbody tr th:only-of-type {\n",
              "        vertical-align: middle;\n",
              "    }\n",
              "\n",
              "    .dataframe tbody tr th {\n",
              "        vertical-align: top;\n",
              "    }\n",
              "\n",
              "    .dataframe thead th {\n",
              "        text-align: right;\n",
              "    }\n",
              "</style>\n",
              "<table border=\"1\" class=\"dataframe\">\n",
              "  <thead>\n",
              "    <tr style=\"text-align: right;\">\n",
              "      <th></th>\n",
              "      <th>horizon</th>\n",
              "      <th>mse</th>\n",
              "      <th>rmse</th>\n",
              "      <th>mae</th>\n",
              "      <th>mape</th>\n",
              "      <th>mdape</th>\n",
              "      <th>coverage</th>\n",
              "    </tr>\n",
              "  </thead>\n",
              "  <tbody>\n",
              "    <tr>\n",
              "      <th>0</th>\n",
              "      <td>3 days</td>\n",
              "      <td>0.003137</td>\n",
              "      <td>0.056005</td>\n",
              "      <td>0.042801</td>\n",
              "      <td>0.050648</td>\n",
              "      <td>0.042442</td>\n",
              "      <td>0.793651</td>\n",
              "    </tr>\n",
              "    <tr>\n",
              "      <th>1</th>\n",
              "      <td>4 days</td>\n",
              "      <td>0.002979</td>\n",
              "      <td>0.054578</td>\n",
              "      <td>0.040412</td>\n",
              "      <td>0.048223</td>\n",
              "      <td>0.035611</td>\n",
              "      <td>0.777778</td>\n",
              "    </tr>\n",
              "    <tr>\n",
              "      <th>2</th>\n",
              "      <td>5 days</td>\n",
              "      <td>0.002684</td>\n",
              "      <td>0.051808</td>\n",
              "      <td>0.036847</td>\n",
              "      <td>0.043875</td>\n",
              "      <td>0.032052</td>\n",
              "      <td>0.809524</td>\n",
              "    </tr>\n",
              "    <tr>\n",
              "      <th>3</th>\n",
              "      <td>6 days</td>\n",
              "      <td>0.001862</td>\n",
              "      <td>0.043147</td>\n",
              "      <td>0.032421</td>\n",
              "      <td>0.037167</td>\n",
              "      <td>0.030035</td>\n",
              "      <td>0.809524</td>\n",
              "    </tr>\n",
              "    <tr>\n",
              "      <th>4</th>\n",
              "      <td>7 days</td>\n",
              "      <td>0.001862</td>\n",
              "      <td>0.043156</td>\n",
              "      <td>0.033761</td>\n",
              "      <td>0.039243</td>\n",
              "      <td>0.034019</td>\n",
              "      <td>0.841270</td>\n",
              "    </tr>\n",
              "    <tr>\n",
              "      <th>5</th>\n",
              "      <td>8 days</td>\n",
              "      <td>0.001746</td>\n",
              "      <td>0.041786</td>\n",
              "      <td>0.034175</td>\n",
              "      <td>0.040274</td>\n",
              "      <td>0.036130</td>\n",
              "      <td>0.841270</td>\n",
              "    </tr>\n",
              "    <tr>\n",
              "      <th>6</th>\n",
              "      <td>9 days</td>\n",
              "      <td>0.001817</td>\n",
              "      <td>0.042622</td>\n",
              "      <td>0.034814</td>\n",
              "      <td>0.041622</td>\n",
              "      <td>0.036417</td>\n",
              "      <td>0.825397</td>\n",
              "    </tr>\n",
              "    <tr>\n",
              "      <th>7</th>\n",
              "      <td>10 days</td>\n",
              "      <td>0.001850</td>\n",
              "      <td>0.043015</td>\n",
              "      <td>0.033637</td>\n",
              "      <td>0.040503</td>\n",
              "      <td>0.030187</td>\n",
              "      <td>0.825397</td>\n",
              "    </tr>\n",
              "    <tr>\n",
              "      <th>8</th>\n",
              "      <td>11 days</td>\n",
              "      <td>0.002013</td>\n",
              "      <td>0.044870</td>\n",
              "      <td>0.035097</td>\n",
              "      <td>0.042471</td>\n",
              "      <td>0.029266</td>\n",
              "      <td>0.825397</td>\n",
              "    </tr>\n",
              "    <tr>\n",
              "      <th>9</th>\n",
              "      <td>12 days</td>\n",
              "      <td>0.002211</td>\n",
              "      <td>0.047017</td>\n",
              "      <td>0.037270</td>\n",
              "      <td>0.044858</td>\n",
              "      <td>0.031745</td>\n",
              "      <td>0.825397</td>\n",
              "    </tr>\n",
              "    <tr>\n",
              "      <th>10</th>\n",
              "      <td>13 days</td>\n",
              "      <td>0.002196</td>\n",
              "      <td>0.046865</td>\n",
              "      <td>0.037422</td>\n",
              "      <td>0.044481</td>\n",
              "      <td>0.035323</td>\n",
              "      <td>0.825397</td>\n",
              "    </tr>\n",
              "    <tr>\n",
              "      <th>11</th>\n",
              "      <td>14 days</td>\n",
              "      <td>0.002476</td>\n",
              "      <td>0.049760</td>\n",
              "      <td>0.038447</td>\n",
              "      <td>0.045326</td>\n",
              "      <td>0.035323</td>\n",
              "      <td>0.825397</td>\n",
              "    </tr>\n",
              "    <tr>\n",
              "      <th>12</th>\n",
              "      <td>15 days</td>\n",
              "      <td>0.002202</td>\n",
              "      <td>0.046921</td>\n",
              "      <td>0.035781</td>\n",
              "      <td>0.041700</td>\n",
              "      <td>0.032441</td>\n",
              "      <td>0.873016</td>\n",
              "    </tr>\n",
              "    <tr>\n",
              "      <th>13</th>\n",
              "      <td>16 days</td>\n",
              "      <td>0.002273</td>\n",
              "      <td>0.047678</td>\n",
              "      <td>0.036137</td>\n",
              "      <td>0.041665</td>\n",
              "      <td>0.031831</td>\n",
              "      <td>0.888889</td>\n",
              "    </tr>\n",
              "    <tr>\n",
              "      <th>14</th>\n",
              "      <td>17 days</td>\n",
              "      <td>0.002127</td>\n",
              "      <td>0.046118</td>\n",
              "      <td>0.035558</td>\n",
              "      <td>0.041127</td>\n",
              "      <td>0.032441</td>\n",
              "      <td>0.904762</td>\n",
              "    </tr>\n",
              "    <tr>\n",
              "      <th>15</th>\n",
              "      <td>18 days</td>\n",
              "      <td>0.002918</td>\n",
              "      <td>0.054014</td>\n",
              "      <td>0.038307</td>\n",
              "      <td>0.046303</td>\n",
              "      <td>0.031912</td>\n",
              "      <td>0.873016</td>\n",
              "    </tr>\n",
              "    <tr>\n",
              "      <th>16</th>\n",
              "      <td>19 days</td>\n",
              "      <td>0.002637</td>\n",
              "      <td>0.051353</td>\n",
              "      <td>0.036503</td>\n",
              "      <td>0.044531</td>\n",
              "      <td>0.031912</td>\n",
              "      <td>0.873016</td>\n",
              "    </tr>\n",
              "    <tr>\n",
              "      <th>17</th>\n",
              "      <td>20 days</td>\n",
              "      <td>0.002941</td>\n",
              "      <td>0.054236</td>\n",
              "      <td>0.035692</td>\n",
              "      <td>0.043192</td>\n",
              "      <td>0.030957</td>\n",
              "      <td>0.873016</td>\n",
              "    </tr>\n",
              "    <tr>\n",
              "      <th>18</th>\n",
              "      <td>21 days</td>\n",
              "      <td>0.002817</td>\n",
              "      <td>0.053078</td>\n",
              "      <td>0.033351</td>\n",
              "      <td>0.038726</td>\n",
              "      <td>0.029310</td>\n",
              "      <td>0.904762</td>\n",
              "    </tr>\n",
              "    <tr>\n",
              "      <th>19</th>\n",
              "      <td>22 days</td>\n",
              "      <td>0.003444</td>\n",
              "      <td>0.058684</td>\n",
              "      <td>0.036051</td>\n",
              "      <td>0.042319</td>\n",
              "      <td>0.026006</td>\n",
              "      <td>0.904762</td>\n",
              "    </tr>\n",
              "    <tr>\n",
              "      <th>20</th>\n",
              "      <td>23 days</td>\n",
              "      <td>0.003571</td>\n",
              "      <td>0.059758</td>\n",
              "      <td>0.038201</td>\n",
              "      <td>0.045363</td>\n",
              "      <td>0.030197</td>\n",
              "      <td>0.904762</td>\n",
              "    </tr>\n",
              "    <tr>\n",
              "      <th>21</th>\n",
              "      <td>24 days</td>\n",
              "      <td>0.004014</td>\n",
              "      <td>0.063352</td>\n",
              "      <td>0.042454</td>\n",
              "      <td>0.050919</td>\n",
              "      <td>0.038225</td>\n",
              "      <td>0.888889</td>\n",
              "    </tr>\n",
              "    <tr>\n",
              "      <th>22</th>\n",
              "      <td>25 days</td>\n",
              "      <td>0.004792</td>\n",
              "      <td>0.069224</td>\n",
              "      <td>0.044844</td>\n",
              "      <td>0.053980</td>\n",
              "      <td>0.038225</td>\n",
              "      <td>0.888889</td>\n",
              "    </tr>\n",
              "    <tr>\n",
              "      <th>23</th>\n",
              "      <td>26 days</td>\n",
              "      <td>0.005382</td>\n",
              "      <td>0.073363</td>\n",
              "      <td>0.045972</td>\n",
              "      <td>0.055497</td>\n",
              "      <td>0.035984</td>\n",
              "      <td>0.873016</td>\n",
              "    </tr>\n",
              "    <tr>\n",
              "      <th>24</th>\n",
              "      <td>27 days</td>\n",
              "      <td>0.006037</td>\n",
              "      <td>0.077695</td>\n",
              "      <td>0.047916</td>\n",
              "      <td>0.057931</td>\n",
              "      <td>0.035653</td>\n",
              "      <td>0.873016</td>\n",
              "    </tr>\n",
              "    <tr>\n",
              "      <th>25</th>\n",
              "      <td>28 days</td>\n",
              "      <td>0.006051</td>\n",
              "      <td>0.077790</td>\n",
              "      <td>0.049481</td>\n",
              "      <td>0.059114</td>\n",
              "      <td>0.035653</td>\n",
              "      <td>0.873016</td>\n",
              "    </tr>\n",
              "    <tr>\n",
              "      <th>26</th>\n",
              "      <td>29 days</td>\n",
              "      <td>0.005980</td>\n",
              "      <td>0.077333</td>\n",
              "      <td>0.051789</td>\n",
              "      <td>0.061161</td>\n",
              "      <td>0.036442</td>\n",
              "      <td>0.857143</td>\n",
              "    </tr>\n",
              "    <tr>\n",
              "      <th>27</th>\n",
              "      <td>30 days</td>\n",
              "      <td>0.004600</td>\n",
              "      <td>0.067821</td>\n",
              "      <td>0.046712</td>\n",
              "      <td>0.054216</td>\n",
              "      <td>0.033657</td>\n",
              "      <td>0.873016</td>\n",
              "    </tr>\n",
              "  </tbody>\n",
              "</table>\n",
              "</div>"
            ],
            "text/plain": [
              "   horizon       mse      rmse       mae      mape     mdape  coverage\n",
              "0   3 days  0.003137  0.056005  0.042801  0.050648  0.042442  0.793651\n",
              "1   4 days  0.002979  0.054578  0.040412  0.048223  0.035611  0.777778\n",
              "2   5 days  0.002684  0.051808  0.036847  0.043875  0.032052  0.809524\n",
              "3   6 days  0.001862  0.043147  0.032421  0.037167  0.030035  0.809524\n",
              "4   7 days  0.001862  0.043156  0.033761  0.039243  0.034019  0.841270\n",
              "5   8 days  0.001746  0.041786  0.034175  0.040274  0.036130  0.841270\n",
              "6   9 days  0.001817  0.042622  0.034814  0.041622  0.036417  0.825397\n",
              "7  10 days  0.001850  0.043015  0.033637  0.040503  0.030187  0.825397\n",
              "8  11 days  0.002013  0.044870  0.035097  0.042471  0.029266  0.825397\n",
              "9  12 days  0.002211  0.047017  0.037270  0.044858  0.031745  0.825397\n",
              "10 13 days  0.002196  0.046865  0.037422  0.044481  0.035323  0.825397\n",
              "11 14 days  0.002476  0.049760  0.038447  0.045326  0.035323  0.825397\n",
              "12 15 days  0.002202  0.046921  0.035781  0.041700  0.032441  0.873016\n",
              "13 16 days  0.002273  0.047678  0.036137  0.041665  0.031831  0.888889\n",
              "14 17 days  0.002127  0.046118  0.035558  0.041127  0.032441  0.904762\n",
              "15 18 days  0.002918  0.054014  0.038307  0.046303  0.031912  0.873016\n",
              "16 19 days  0.002637  0.051353  0.036503  0.044531  0.031912  0.873016\n",
              "17 20 days  0.002941  0.054236  0.035692  0.043192  0.030957  0.873016\n",
              "18 21 days  0.002817  0.053078  0.033351  0.038726  0.029310  0.904762\n",
              "19 22 days  0.003444  0.058684  0.036051  0.042319  0.026006  0.904762\n",
              "20 23 days  0.003571  0.059758  0.038201  0.045363  0.030197  0.904762\n",
              "21 24 days  0.004014  0.063352  0.042454  0.050919  0.038225  0.888889\n",
              "22 25 days  0.004792  0.069224  0.044844  0.053980  0.038225  0.888889\n",
              "23 26 days  0.005382  0.073363  0.045972  0.055497  0.035984  0.873016\n",
              "24 27 days  0.006037  0.077695  0.047916  0.057931  0.035653  0.873016\n",
              "25 28 days  0.006051  0.077790  0.049481  0.059114  0.035653  0.873016\n",
              "26 29 days  0.005980  0.077333  0.051789  0.061161  0.036442  0.857143\n",
              "27 30 days  0.004600  0.067821  0.046712  0.054216  0.033657  0.873016"
            ]
          },
          "metadata": {
            "tags": []
          },
          "execution_count": 76
        }
      ]
    },
    {
      "cell_type": "code",
      "metadata": {
        "colab": {
          "base_uri": "https://localhost:8080/",
          "height": 388
        },
        "id": "cPF5kgXzciCw",
        "outputId": "7d480c8e-5daf-4f3e-9ad8-cb3ba75c776e"
      },
      "source": [
        "from fbprophet.plot import plot_cross_validation_metric\n",
        "\n",
        "fig3 = plot_cross_validation_metric(cv,metric='mape')"
      ],
      "execution_count": 77,
      "outputs": [
        {
          "output_type": "display_data",
          "data": {
            "image/png": "[encoded data removed]",
            "text/plain": [
              "<Figure size 720x432 with 1 Axes>"
            ]
          },
          "metadata": {
            "tags": []
          }
        }
      ]
    },
    {
      "cell_type": "markdown",
      "metadata": {
        "id": "hIVB-Ll_INr8"
      },
      "source": [
        "## VAR Multivariable Forecasting"
      ]
    },
    {
      "cell_type": "code",
      "metadata": {
        "colab": {
          "base_uri": "https://localhost:8080/",
          "height": 419
        },
        "id": "Osch6fTVIS6C",
        "outputId": "23c64409-6cff-4cf5-f221-0bfca0f7f9a9"
      },
      "source": [
        "eng"
      ],
      "execution_count": 40,
      "outputs": [
        {
          "output_type": "execute_result",
          "data": {
            "text/html": [
              "<div>\n",
              "<style scoped>\n",
              "    .dataframe tbody tr th:only-of-type {\n",
              "        vertical-align: middle;\n",
              "    }\n",
              "\n",
              "    .dataframe tbody tr th {\n",
              "        vertical-align: top;\n",
              "    }\n",
              "\n",
              "    .dataframe thead th {\n",
              "        text-align: right;\n",
              "    }\n",
              "</style>\n",
              "<table border=\"1\" class=\"dataframe\">\n",
              "  <thead>\n",
              "    <tr style=\"text-align: right;\">\n",
              "      <th></th>\n",
              "      <th>date</th>\n",
              "      <th>net_rate</th>\n",
              "      <th>dday</th>\n",
              "      <th>month</th>\n",
              "      <th>season</th>\n",
              "    </tr>\n",
              "  </thead>\n",
              "  <tbody>\n",
              "    <tr>\n",
              "      <th>0</th>\n",
              "      <td>2020-07-01</td>\n",
              "      <td>0.839774</td>\n",
              "      <td>0</td>\n",
              "      <td>7</td>\n",
              "      <td>1</td>\n",
              "    </tr>\n",
              "    <tr>\n",
              "      <th>1</th>\n",
              "      <td>2020-07-02</td>\n",
              "      <td>0.848318</td>\n",
              "      <td>0</td>\n",
              "      <td>7</td>\n",
              "      <td>1</td>\n",
              "    </tr>\n",
              "    <tr>\n",
              "      <th>2</th>\n",
              "      <td>2020-07-03</td>\n",
              "      <td>0.855188</td>\n",
              "      <td>0</td>\n",
              "      <td>7</td>\n",
              "      <td>1</td>\n",
              "    </tr>\n",
              "    <tr>\n",
              "      <th>3</th>\n",
              "      <td>2020-07-04</td>\n",
              "      <td>0.847392</td>\n",
              "      <td>0</td>\n",
              "      <td>7</td>\n",
              "      <td>1</td>\n",
              "    </tr>\n",
              "    <tr>\n",
              "      <th>4</th>\n",
              "      <td>2020-07-05</td>\n",
              "      <td>0.826917</td>\n",
              "      <td>0</td>\n",
              "      <td>7</td>\n",
              "      <td>1</td>\n",
              "    </tr>\n",
              "    <tr>\n",
              "      <th>...</th>\n",
              "      <td>...</td>\n",
              "      <td>...</td>\n",
              "      <td>...</td>\n",
              "      <td>...</td>\n",
              "      <td>...</td>\n",
              "    </tr>\n",
              "    <tr>\n",
              "      <th>367</th>\n",
              "      <td>2021-07-03</td>\n",
              "      <td>0.857004</td>\n",
              "      <td>0</td>\n",
              "      <td>7</td>\n",
              "      <td>1</td>\n",
              "    </tr>\n",
              "    <tr>\n",
              "      <th>368</th>\n",
              "      <td>2021-07-04</td>\n",
              "      <td>0.849715</td>\n",
              "      <td>0</td>\n",
              "      <td>7</td>\n",
              "      <td>1</td>\n",
              "    </tr>\n",
              "    <tr>\n",
              "      <th>369</th>\n",
              "      <td>2021-07-05</td>\n",
              "      <td>0.850116</td>\n",
              "      <td>0</td>\n",
              "      <td>7</td>\n",
              "      <td>1</td>\n",
              "    </tr>\n",
              "    <tr>\n",
              "      <th>370</th>\n",
              "      <td>2021-07-06</td>\n",
              "      <td>0.851735</td>\n",
              "      <td>0</td>\n",
              "      <td>7</td>\n",
              "      <td>1</td>\n",
              "    </tr>\n",
              "    <tr>\n",
              "      <th>371</th>\n",
              "      <td>2021-07-07</td>\n",
              "      <td>0.666483</td>\n",
              "      <td>1</td>\n",
              "      <td>7</td>\n",
              "      <td>1</td>\n",
              "    </tr>\n",
              "  </tbody>\n",
              "</table>\n",
              "<p>372 rows × 5 columns</p>\n",
              "</div>"
            ],
            "text/plain": [
              "           date  net_rate  dday  month  season\n",
              "0    2020-07-01  0.839774     0      7       1\n",
              "1    2020-07-02  0.848318     0      7       1\n",
              "2    2020-07-03  0.855188     0      7       1\n",
              "3    2020-07-04  0.847392     0      7       1\n",
              "4    2020-07-05  0.826917     0      7       1\n",
              "..          ...       ...   ...    ...     ...\n",
              "367  2021-07-03  0.857004     0      7       1\n",
              "368  2021-07-04  0.849715     0      7       1\n",
              "369  2021-07-05  0.850116     0      7       1\n",
              "370  2021-07-06  0.851735     0      7       1\n",
              "371  2021-07-07  0.666483     1      7       1\n",
              "\n",
              "[372 rows x 5 columns]"
            ]
          },
          "metadata": {
            "tags": []
          },
          "execution_count": 40
        }
      ]
    }
  ]
}